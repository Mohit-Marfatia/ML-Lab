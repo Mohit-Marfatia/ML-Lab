import cv2
import numpy as np
from matplotlib import pyplot as plt

# Load the RGB image
image = cv2.imread('datasets/wallpaper.jpg') 
image_rgb = cv2.cvtColor(image, cv2.COLOR_BGR2RGB)


gray_image = cv2.cvtColor(image, cv2.COLOR_BGR2GRAY)
_, binary_image = cv2.threshold(gray_image, 128, 255, cv2.THRESH_BINARY)

# Display Grayscale and Binary Images
plt.figure(figsize=(15, 5))
plt.subplot(1, 3, 1)
plt.title('RGB Image')
plt.imshow(image_rgb, cmap='gray')
plt.axis('off')

plt.subplot(1, 3, 2)
plt.title('Grayscale Image')
plt.imshow(gray_image, cmap='gray')
plt.axis('off')

plt.subplot(1, 3, 3)
plt.title('Binary Image')
plt.imshow(binary_image, cmap='gray')
plt.axis('off')
plt.show()


r_channel, g_channel, b_channel = cv2.split(image_rgb)

# Display RGB Channels
plt.figure(figsize=(15, 5))
plt.subplot(1, 3, 1)
plt.title('Red Channel')
plt.imshow(r_channel, cmap='Reds')
plt.axis('off')

plt.subplot(1, 3, 2)
plt.title('Green Channel')
plt.imshow(g_channel, cmap='Greens')
plt.axis('off')

plt.subplot(1, 3, 3)
plt.title('Blue Channel')
plt.imshow(b_channel, cmap='Blues')
plt.axis('off')
plt.show()


hsv_image = cv2.cvtColor(image, cv2.COLOR_BGR2HSV)
ycrcb_image = cv2.cvtColor(image, cv2.COLOR_BGR2YCrCb)

# Extract and display HSV channels
h_channel, s_channel, v_channel = cv2.split(hsv_image)
plt.figure(figsize=(15, 5))
plt.subplot(1, 3, 1)
plt.title('Hue Channel')
plt.imshow(h_channel, cmap='hsv')
plt.axis('off')

plt.subplot(1, 3, 2)
plt.title('Saturation Channel')
plt.imshow(s_channel, cmap='gray')
plt.axis('off')

plt.subplot(1, 3, 3)
plt.title('Value Channel')
plt.imshow(v_channel, cmap='gray')
plt.axis('off')
plt.show()

# Extract and display YCrCb channels
y_channel, cr_channel, cb_channel = cv2.split(ycrcb_image)
plt.figure(figsize=(15, 5))
plt.subplot(1, 3, 1)
plt.title('Y Channel')
plt.imshow(y_channel, cmap='gray')
plt.axis('off')

plt.subplot(1, 3, 2)
plt.title('Cr Channel')
plt.imshow(cr_channel, cmap='Reds')
plt.axis('off')

plt.subplot(1, 3, 3)
plt.title('Cb Channel')
plt.imshow(cb_channel, cmap='Blues')
plt.axis('off')
plt.show()


# Downsample the image (e.g., by a factor of 4)
downsampled_image = cv2.resize(image_rgb, (image_rgb.shape[1] // 4, image_rgb.shape[0] // 4), interpolation=cv2.INTER_AREA)

# Upsample the image back to the original size
upsampled_image = cv2.resize(downsampled_image, (image_rgb.shape[1], image_rgb.shape[0]), interpolation=cv2.INTER_AREA)

# Display Original, Downsampled, and Upsampled Images
plt.figure(figsize=(15, 5))
plt.subplot(1, 3, 1)
plt.title('Original Image')
plt.imshow(image_rgb)
plt.axis('off')

plt.subplot(1, 3, 2)
plt.title('Downsampled Image')
plt.imshow(downsampled_image)
plt.axis('off')

plt.subplot(1, 3, 3)
plt.title('Upsampled Image')
plt.imshow(upsampled_image)
plt.axis('off')
plt.show()



import numpy as np
print(np.size(r_channel, 1))




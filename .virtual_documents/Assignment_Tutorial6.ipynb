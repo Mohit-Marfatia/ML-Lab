


!wget -O datasets/tutorial6_train.csv "https://drive.google.com/file/d/1anmPpc7Ox5yeEY4AWFAoBRkBKUfIaJth/view?usp=drive_link"
# export=csv
!wget -O datasets/tutorial6_test.csv "https://drive.google.com/file/d/1YAdIEx_ea_3Ka91qlUYG3RdzlUaZcZgx/view?usp=drive_link"








# TODO : load the dataset, and do necessary preprocessing steps
#        The dataset already contains the train.csv file use that for training
import pandas as pd

file_path = 'datasets/tutorial6_train.csv'
dataset1 = pd.read_csv(file_path)

file_path2 = 'datasets/tutorial6_test.csv'
dataset2 = pd.read_csv(file_path2)

dataset1.head()


import matplotlib.pyplot as plt
import seaborn as sns

# Correlation
class CusDataFrame:
    def __init__(self, file_path = None, data = None):
        # Load data from file or use passed data
        if file_path is not None:
            self.df = pd.read_csv(file_path)
        else:
            self.df = data

    def calculate_correlation_matrix(self):
        # Get numerical columns
        df = self.df
        numerical_columns = df.select_dtypes(include=['float64', 'int64']).columns
        num_cols = len(numerical_columns)

        # Create an empty correlation matrix
        corr_matrix = {}
        for row in numerical_columns:
            corr_matrix[row] = {}
            for col in numerical_columns:
                corr_matrix[row][col] = 0

        for i in range(num_cols):
            for j in range(i, num_cols):
                col1 = numerical_columns[i]
                col2 = numerical_columns[j]

                # Calculate mean
                mean1 = df[col1].mean()
                mean2 = df[col2].mean()

                # Calculate covariance
                covariance = ((df[col1] - mean1) * (df[col2] - mean2)).mean()

                # Calculate standard deviations
                std_dev1 = df[col1].std()
                std_dev2 = df[col2].std()

                # Calculate correlation
                correlation = covariance / (std_dev1 * std_dev2)

                # Store in matrix
                corr_matrix[col1][col2] = correlation
                corr_matrix[col2][col1] = correlation  # Symmetric matrix

        return corr_matrix

    def display_correlation_matrix(self):
        corr_matrix = self.calculate_correlation_matrix()
        print("Correlation Matrix:")
        for col1, row in corr_matrix.items():
            print(f"{col1}: {row}")
        # print(len(corr_matrix))
        # print(len(corr_matrix[0]))
        data_frame = pd.DataFrame(corr_matrix) 
        plt.figure(figsize=(10,8))
        sns.heatmap(data_frame, annot=True, fmt='.2f', cmap='coolwarm', vmin=-1, vmax=1, center=0)
        plt.title('Correlation Matrix Heatmap')
        plt.show()

df = CusDataFrame(file_path = file_path)
df.display_correlation_matrix()


def count_na_values(df):
    na_counts = {col: 0 for col in df.columns}

    # Iterate through each row and column
    for index, row in df.iterrows():
        for col in df.columns:
            # Check for NA values
            if pd.isna(row[col]):
                na_counts[col] += 1

    print("Columns with NA values:")
    for column, count in na_counts.items():
        print(f"{column}: {count}")

# numerical_columns = df.select_dtypes(include=['float64', 'int64']) 
df = pd.read_csv(file_path)
count_na_values(df)
print("")
df2 = pd.read_csv(file_path2)
count_na_values(df2)


dataset1.dtypes


df_copy = df.copy()
df2_copy = df2.copy()
df_copy.drop(['Cabin', 'Ticket', 'Name', 'PassengerId'], axis=1, inplace=True)
df2_copy.drop(['Cabin', 'Ticket', 'Name', 'PassengerId'], axis=1, inplace=True)

def fill_missing_with_mean(data, numerical_columns):
    for column in numerical_columns:
        total_sum = 0
        count = 0
        for value in data[column]:
            if not pd.isna(value):  # Check for missing values
                total_sum += value
                count += 1
        mean_value = total_sum / count

        # Replace missing values with the calculated mean
        for i in range(len(data[column])):
            if pd.isna(data[column][i]):
                data[column][i] = mean_value

def most_frequent_value_for_column(data, column):
    frequency = {}
    for value in data[column]:
        if not pd.isna(value):
            frequency[value] = frequency.get(value, 0) + 1
    most_frequent = max(frequency, key=frequency.get) if frequency else None
    return most_frequent

def replace_missing_values_in_columns(data, column):
    for col in column:
        most_frequent = most_frequent_value_for_column(data, col)
        for i in range(len(data[col])):
            if pd.isna(data[col][i]):
                data[col][i] = most_frequent
                    
numerical_columns = df_copy.select_dtypes(include=['float64', 'int64']).columns
fill_missing_with_mean(df_copy, numerical_columns)
categorical_columns = df_copy.select_dtypes(include=['object']).columns
replace_missing_values_in_columns(df_copy, categorical_columns)

numerical_columns2 = df2_copy.select_dtypes(include=['float64', 'int64']).columns
fill_missing_with_mean(df2_copy, numerical_columns2)
categorical_columns2 = df2_copy.select_dtypes(include=['object']).columns
replace_missing_values_in_columns(df2_copy, categorical_columns2)
print(df_copy)
print("")
print(df2_copy)


count_na_values(df_copy)
print("")
count_na_values(df2_copy)


# one hot encoding
def one_hot_encode(df, columns):
  """
  Args:
    df: The pandas DataFrame containing the data.
    column_name: The name of the column to one-hot encode.

  Returns:
    The DataFrame with the one-hot encoded columns.
  """
  for column_name in columns:
      unique_values = df[column_name].unique()
      for value in unique_values:
        df[column_name + "(" + str(value) + ")"] = (df[column_name] == value).astype(int)
      df = df.drop(column_name, axis=1)
  return df

df_encoded = one_hot_encode(df_copy.copy(), categorical_columns)
print(df_encoded.head())

df_encoded2 = one_hot_encode(df2_copy.copy(), categorical_columns2)
print(df_encoded2.head())


# df_encoded = CusDataFrame(data = df_encoded)
# df_encoded.display_correlation_matrix()
df_normalized = (df_encoded - df_encoded.min()) / (df_encoded.max() - df_encoded.min())
df_normalized2 = (df_encoded2 - df_encoded2.min()) / (df_encoded2.max() - df_encoded2.min())
print(df_normalized)
print("")
print(df_normalized2)


# Move column 'Survived' to the end
b = df_normalized.pop('Survived')
df_preprocessed = df_normalized.assign(Survived=b)
df_preprocessed2 = df_normalized2
# c = df_normalized2.pop('Survived')
# df_preprocessed2 = df_normalized2.assign(Survived=c)
print(df_preprocessed)
# print(df_preprocessed2)


df_preprocessed2.dtypes


X_train = df_preprocessed.iloc[:, :-1]  # All columns except the last one
Y_train = df_preprocessed.iloc[:, -1]    # Last column only
Y_train_reshaped = Y_train.values.reshape(-1, 1)





import numpy as np
import pandas as pd


class Node():
    def __init__(self, feature_index=None, threshold=None, left=None, right=None, info_gain=None, value=None):
        ''' constructor '''

        # for decision node
        self.feature_index = feature_index
        self.threshold = threshold
        self.left = left
        self.right = right
        self.info_gain = info_gain

        # for leaf node
        self.value = value


class DecisionTreeClassifier():
    def __init__(self, min_samples_split=2, max_depth=2):
        ''' constructor '''

        # initialize the root of the tree
        self.root = None

        # stopping conditions
        self.min_samples_split = min_samples_split
        self.max_depth = max_depth

    def build_tree(self, dataset, curr_depth=0):
        ''' recursive function to build the tree '''

        X, Y = dataset[:,:-1], dataset[:,-1]
        num_samples, num_features = np.shape(X)

        # split until stopping conditions are met
        if num_samples>=self.min_samples_split and curr_depth<=self.max_depth:
            # find the best split
            best_split = self.get_best_split(dataset, num_samples, num_features)
            # check if information gain is positive
            if best_split["info_gain"]>0:
                # recur left
                left_subtree = self.build_tree(best_split["dataset_left"], curr_depth+1)
                # recur right
                right_subtree = self.build_tree(best_split["dataset_right"], curr_depth+1)
                # return decision node
                return Node(best_split["feature_index"], best_split["threshold"],
                            left_subtree, right_subtree, best_split["info_gain"])

        # compute leaf node
        leaf_value = self.calculate_leaf_value(Y)
        # return leaf node
        return Node(value=leaf_value)

    def get_best_split(self, dataset, num_samples, num_features):
        ''' function to find the best split '''

        # dictionary to store the best split
        best_split = {}
        max_info_gain = -float("inf")

        # loop over all the features
        for feature_index in range(num_features):
            feature_values = dataset[:, feature_index]
            possible_thresholds = np.unique(feature_values)
            # loop over all the feature values present in the data
            for threshold in possible_thresholds:
                # get current split
                dataset_left, dataset_right = self.split(dataset, feature_index, threshold)
                # check if childs are not null
                if len(dataset_left)>0 and len(dataset_right)>0:
                    y, left_y, right_y = dataset[:, -1], dataset_left[:, -1], dataset_right[:, -1]
                    # compute information gain
                    curr_info_gain = self.information_gain(y, left_y, right_y, "gini")
                    # update the best split if needed
                    if curr_info_gain>max_info_gain:
                        best_split["feature_index"] = feature_index
                        best_split["threshold"] = threshold
                        best_split["dataset_left"] = dataset_left
                        best_split["dataset_right"] = dataset_right
                        best_split["info_gain"] = curr_info_gain
                        max_info_gain = curr_info_gain

        # return best split
        return best_split

    def split(self, dataset, feature_index, threshold):
        ''' function to split the data '''

        dataset_left = np.array([row for row in dataset if row[feature_index]<=threshold])
        dataset_right = np.array([row for row in dataset if row[feature_index]>threshold])
        return dataset_left, dataset_right

    def information_gain(self, parent, l_child, r_child, mode="entropy"):
        ''' function to compute information gain '''

        weight_l = len(l_child) / len(parent)
        weight_r = len(r_child) / len(parent)
        if mode=="gini":
            gain = self.gini_index(parent) - (weight_l*self.gini_index(l_child) + weight_r*self.gini_index(r_child))
        else:
            gain = self.entropy(parent) - (weight_l*self.entropy(l_child) + weight_r*self.entropy(r_child))
        return gain

    def entropy(self, y):
        ''' function to compute entropy '''

        class_labels = np.unique(y)
        entropy = 0
        for cls in class_labels:
            p_cls = len(y[y == cls]) / len(y)
            entropy += -p_cls * np.log2(p_cls)
        return entropy

    def gini_index(self, y):
        ''' function to compute gini index '''

        class_labels = np.unique(y)
        gini = 0
        for cls in class_labels:
            p_cls = len(y[y == cls]) / len(y)
            gini += p_cls**2
        return 1 - gini

    def calculate_leaf_value(self, Y):
        ''' function to compute leaf node '''

        Y = list(Y)
        return max(Y, key=Y.count)

    def print_tree(self, tree=None, indent=" "):
        ''' function to print the tree '''

        if not tree:
            tree = self.root

        if tree.value is not None:
            print(tree.value)

        else:
            print("X_"+str(tree.feature_index), "<=", tree.threshold, "?", tree.info_gain)
            print("%sleft:" % (indent), end="")
            self.print_tree(tree.left, indent + indent)
            print("%sright:" % (indent), end="")
            self.print_tree(tree.right, indent + indent)

    def fit(self, X, Y):
        ''' function to train the tree '''

        dataset = np.concatenate((X, Y), axis=1)
        self.root = self.build_tree(dataset)

    def predict(self, X):
        ''' function to predict new dataset '''

        preditions = [self.make_prediction(x, self.root) for x in X]
        return preditions

    def make_prediction(self, x, tree):
        ''' function to predict a single data point '''
    
        if tree.value!=None: return tree.value
        feature_val = x[tree.feature_index]
        if feature_val<=tree.threshold:
            return self.make_prediction(x, tree.left)
        else:
            return self.make_prediction(x, tree.right)





classifier = DecisionTreeClassifier(min_samples_split=3, max_depth=3)
classifier.fit(X_train,Y_train_reshaped)
classifier.print_tree()


# Test your model
predictions = classifier.predict(df_preprocessed2.values)
predictions










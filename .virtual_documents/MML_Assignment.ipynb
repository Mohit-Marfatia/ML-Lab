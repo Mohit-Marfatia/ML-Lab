import pandas as pd

file_path = 'datasets/iris_dataset/iris.data'

columns = ['sepal_length', 'sepal_width', 'petal_length', 'petal_width', 'species']
iris_data = pd.read_csv(file_path, header=None, names=columns)

iris_data.head()


import matplotlib.pyplot as plt

# Create a scatter plot for the raw data, with different colors
setosa = iris_data[iris_data['species'] == 'Iris-setosa']
non_setosa = iris_data[iris_data['species'] != 'Iris-setosa']

plt.figure(figsize=(10, 6))

# Plot Iris-setosa points
plt.scatter(setosa['sepal_length'], setosa['sepal_width'], color='blue', label='Iris-setosa', alpha=0.7)

# Plot non-Iris-setosa points
plt.scatter(non_setosa['sepal_length'], non_setosa['sepal_width'], color='red', label='Non-Iris-setosa', alpha=0.7)

# Add labels and title
plt.xlabel('Sepal Length')
plt.ylabel('Sepal Width')
plt.title('Iris Dataset: Sepal Length vs Sepal Width')
plt.legend()

# Show the plot
plt.grid(True)
plt.show()



import matplotlib.pyplot as plt

# Create a scatter plot for the raw data, with different colors
setosa = iris_data[iris_data['species'] == 'Iris-setosa']
non_setosa = iris_data[iris_data['species'] != 'Iris-setosa']

plt.figure(figsize=(10, 6))

# Plot Iris-setosa points
plt.scatter(setosa['petal_length'], setosa['petal_width'], color='blue', label='Iris-setosa', alpha=0.7)

# Plot non-Iris-setosa points
plt.scatter(non_setosa['petal_length'], non_setosa['petal_width'], color='red', label='Non-Iris-setosa', alpha=0.7)

# Add labels and title
plt.xlabel('Petal Length')
plt.ylabel('Petal Width')
plt.title('Iris Dataset: Petal Length vs Petal Width')
plt.legend()

# Show the plot
plt.grid(True)
plt.show()



import matplotlib.pyplot as plt

# Create a scatter plot for the raw data, with different colors 
setosa = iris_data[iris_data['species'] == 'Iris-setosa']
non_setosa = iris_data[iris_data['species'] != 'Iris-setosa']

plt.figure(figsize=(10, 6))

# Plot Iris-setosa points
plt.scatter(setosa['petal_length'], setosa['sepal_length'], color='blue', label='Iris-setosa', alpha=0.7)

# Plot non-Iris-setosa points
plt.scatter(non_setosa['petal_length'], non_setosa['sepal_length'], color='red', label='Non-Iris-setosa', alpha=0.7)

# Add labels and title
plt.xlabel('Petal Length')
plt.ylabel('Sepal Length')
plt.title('Iris Dataset: Petal Length vs Sepal Length')
plt.legend()

# Show the plot
plt.grid(True)
plt.show()



import matplotlib.pyplot as plt

# Create a scatter plot for the raw data, with different colors
setosa = iris_data[iris_data['species'] == 'Iris-setosa']
non_setosa = iris_data[iris_data['species'] != 'Iris-setosa']

plt.figure(figsize=(10, 6))

# Plot Iris-setosa points
plt.scatter(setosa['petal_width'], setosa['sepal_width'], color='blue', label='Iris-setosa', alpha=0.7)

# Plot non-Iris-setosa points
plt.scatter(non_setosa['petal_width'], non_setosa['sepal_width'], color='red', label='Non-Iris-setosa', alpha=0.7)

# Add labels and title
plt.xlabel('Petal Width')
plt.ylabel('Sepal Width')
plt.title('Iris Dataset: Petal Length vs Sepal Length')
plt.legend()

# Show the plot
plt.grid(True)
plt.show()



import numpy as np

# Assign +1 for "Iris-setosa" and -1 for other species
iris_data['label'] = np.where(iris_data['species'] == 'Iris-setosa', 1, -1)
iris_data.drop(['species'], axis=1, inplace=True)
iris_data


from sklearn.metrics import confusion_matrix
from quadprog import solve_qp

X = iris_data[['sepal_length', 'sepal_width', 'petal_length', 'petal_width']].values
y = iris_data['label'].values

n, d = X.shape

# Add a column of ones to X for the intercept term
X = np.hstack((X, np.ones((X.shape[0], 1))))

# Prepare matrices for quadprog
G = np.dot(X.T, X)
a = np.dot(X.T, y)
C = np.zeros((d + 1, 1))
b = np.zeros(1)

# Solve the quadratic programming problem
solution = solve_qp(G, a, C, b)
beta = solution[0]

# Separate beta and mu
beta_coeff = beta[:-1]
mu = beta[-1]

# Make predictions
y_pred = np.sign(np.dot(X[:, :-1], beta_coeff) + mu)

# Calculate confusion matrix
cm = confusion_matrix(y, y_pred)

print("Confusion Matrix:")
print(cm)

# Calculate accuracy
accuracy = np.sum(y == y_pred) / len(y)
print(f"\nAccuracy: {accuracy:.4f}")

# Print coefficients
print("\nCoefficients (beta):")
for i, coef in enumerate(beta_coeff):
    print(f"Feature {i+1}: {coef:.4f}")
print(f"Intercept (mu): {mu:.4f}")





X = iris_data[['sepal_length', 'sepal_width', 'petal_length', 'petal_width']].values
y = iris_data['label'].values

# Perform SVD
U, s, Vt = np.linalg.svd(X.T) # We transpose the data because we want to perform SVD on the features, not the samples.
print(f"U: {U}")
print(f"s: {s}")
print(f"V.T: {Vt}")


# Choose the first two singular values
k = 2
X_hat = (U[:, :k] @ np.diag(s[:k]) @ Vt[:k, :])


# Reduce dimension
X_reduced = (U[:, :k].T @ X_hat).T


def train_and_evaluate(X):
    n, d = X.shape
    
    X = np.hstack((X, np.ones((X.shape[0], 1))))
    
    G = np.dot(X.T, X)
    a = np.dot(X.T, y)
    C = np.zeros((d + 1, 1))
    b = np.zeros(1)

    solution = solve_qp(G, a, C, b)
    beta = solution[0]

    beta_coeff = beta[:-1]
    mu = beta[-1]

    y_pred = np.sign(np.dot(X[:, :-1], beta_coeff) + mu)

    cm = confusion_matrix(y, y_pred)

    accuracy = np.sum(y == y_pred) / len(y)

    return cm, accuracy, beta



# Evaluate full-dimension classifier
cm_full, acc_full, beta_full = train_and_evaluate(X)


# Evaluate reduced-dimension classifier
cm_reduced, acc_reduced, beta_reduced = train_and_evaluate(X_reduced)


print("Full-dimension Confusion Matrix:")
print(cm_full)
print(f"Full-dimension Accuracy: {acc_full:.4f}")

print("\nReduced-dimension Confusion Matrix:")
print(cm_reduced)
print(f"Reduced-dimension Accuracy: {acc_reduced:.4f}")

# Plot reduced-dimension dataset
plt.figure(figsize=(10, 6))
plt.scatter(X_reduced[y == 1, 0], X_reduced[y == 1, 1], label='Iris-setosa')
plt.scatter(X_reduced[y == -1, 0], X_reduced[y == -1, 1], label='Other')
plt.xlabel('First principal component')
plt.ylabel('Second principal component')
plt.title('Reduced-dimension Iris Dataset')
plt.legend()
plt.show()







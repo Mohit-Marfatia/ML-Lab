import pandas as pd
import numpy as np

# Load the dataset
file_path = 'datasets/moonDataset.csv'
moon_dataset = pd.read_csv(file_path)

# Show the first few rows of the dataset to understand its structure
moon_dataset.head()


moon_dataset.describe()


df=moon_dataset
numerical_columns = moon_dataset
num_cols = len(numerical_columns)

corr_matrix = {}
for row in numerical_columns:
    corr_matrix[row] = {}
    for col in numerical_columns:
        corr_matrix[row][col] = 0

    for i in range(num_cols):
        for j in range(i, num_cols):
            col1 = numerical_columns[i]
            col2 = numerical_columns[j]

            # Calculate mean
            mean1 = df[col1].mean()
            mean2 = df[col2].mean()

            # Calculate covariance
            covariance = ((df[col1] - mean1) * (df[col2] - mean2)).mean()

            # Calculate standard deviations
            std_dev1 = df[col1].std()
            std_dev2 = df[col2].std()

            # Calculate correlation
            correlation = covariance / (std_dev1 * std_dev2)

            # Store in matrix
            corr_matrix[col1][col2] = correlation
            corr_matrix[col2][col1] = correlation  # Symmetric matrix
            
print("Correlation Matrix:")
for col1, row in corr_matrix.items():
    print(f"{col1}: {row}")
# print(len(corr_matrix))
# print(len(corr_matrix[0]))
data_frame = pd.DataFrame(corr_matrix) 
plt.figure(figsize=(10,8))
sns.heatmap(data_frame, annot=True, fmt='.2f', cmap='coolwarm', vmin=-1, vmax=1, center=0)
plt.title('Correlation Matrix Heatmap')
plt.show()


import plotly.express as px

# Extracting the features and labels
X1 = moon_dataset['X1']
X2 = moon_dataset['X2']
X3 = moon_dataset['X3']
labels = moon_dataset['label']

# Convert the labels to string to use different colors for different classes
labels_str = ['Class 0' if label == 0 else 'Class 1' for label in labels]

# Create the 3D scatter plot
fig = px.scatter_3d(
    x=X1,
    y=X2,
    z=X3,
    color=labels_str,  # Color the points based on the label
    labels={'x': 'X1', 'y': 'X2', 'z': 'X3'},  # Axis labels
    title='3D Scatter Plot of the Moon Dataset'
)

# Show the plot
fig.show()




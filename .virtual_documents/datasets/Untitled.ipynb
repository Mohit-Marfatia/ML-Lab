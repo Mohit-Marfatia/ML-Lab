import pandas as pd

# Load the dataset
file_path = 'datasets/moonDataset.csv'
moon_dataset = pd.read_csv(file_path)

# Show the first few rows of the dataset to understand its structure
moon_dataset.head()




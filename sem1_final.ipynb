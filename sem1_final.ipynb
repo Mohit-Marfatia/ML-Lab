{
 "cells": [
  {
   "cell_type": "code",
   "execution_count": null,
   "id": "f04d6569-9b7e-4b44-8686-79b0090c864b",
   "metadata": {},
   "outputs": [],
   "source": [
    "import numpy as np\n",
    "import panda as pd\n"
   ]
  },
  {
   "cell_type": "code",
   "execution_count": 4,
   "id": "db10e98a-040e-45a7-94f9-0c7073b1a58e",
   "metadata": {},
   "outputs": [],
   "source": [
    "import numpy as np\n",
    "import pandas as pd"
   ]
  },
  {
   "cell_type": "code",
   "execution_count": 5,
   "id": "83475ed2-5703-4690-ade9-49fc25107d6b",
   "metadata": {},
   "outputs": [
    {
     "name": "stdout",
     "output_type": "stream",
     "text": [
      "   val         1         2        3         4       5         6         7  \\\n",
      "0  209  41557.99  11196.95  6863.97 -28227.64 -221.53 -25329.42 -42775.85   \n",
      "1  210  41929.86  11226.74  6851.50 -28238.23 -207.00 -25340.69 -42198.66   \n",
      "2  211  41469.55  11139.39  6857.43 -28210.98 -422.20 -25342.27 -42841.18   \n",
      "3  212  40805.75  11059.64  6883.67 -28178.22 -574.19 -25325.58 -43841.07   \n",
      "4  213  40857.49  11084.30  6889.77 -28191.23 -448.71 -25317.75 -43829.36   \n",
      "\n",
      "          8           time  \n",
      "0 -25972.41   10:28:12.002  \n",
      "1 -25979.16   10:28:12.002  \n",
      "2 -25931.15   10:28:12.002  \n",
      "3 -25891.63   10:28:12.002  \n",
      "4 -25924.98   10:28:12.002  \n"
     ]
    }
   ],
   "source": [
    "dataset_path = 'datasets/eeg_dataset/t1.csv'\n",
    "data = pd.read_csv(dataset_path)\n",
    "\n",
    "print(data.head())"
   ]
  },
  {
   "cell_type": "code",
   "execution_count": 1,
   "id": "9fba7fd5-21bf-4c67-b6ea-658c1115dc22",
   "metadata": {},
   "outputs": [],
   "source": [
    "import pandas as pd\n",
    "\n",
    "# Load the data\n",
    "time_data = pd.read_excel('datasets/eeg_dataset/Time.xlsx')  # Ensure this path matches your file location\n",
    "task1_data = pd.read_csv('datasets/eeg_dataset/t1.csv')\n",
    "task2_data = pd.read_csv('datasets/eeg_dataset/t2.csv')\n"
   ]
  },
  {
   "cell_type": "code",
   "execution_count": 2,
   "id": "ff9e028f-a8d6-4419-b82f-76c70b8a178b",
   "metadata": {},
   "outputs": [],
   "source": [
    "# Convert to datetime\n",
    "time_data['Start'] = pd.to_datetime(time_data['Start'], format='%H:%M:%S')\n",
    "time_data['End'] = pd.to_datetime(time_data['End'], format='%H:%M:%S')\n",
    "\n",
    "# Define the time ranges\n",
    "task1_start_time = \"06:33:00\"\n",
    "task1_end_time = \"07:14:00\"\n",
    "task2_start_time = \"21:39:00\"\n",
    "task2_end_time = \"21:53:00\"\n",
    "\n",
    "# Filter by time range\n",
    "task1_filtered = time_data[(time_data['Start'].dt.time >= pd.to_datetime(task1_start_time).time()) &\n",
    "                           (time_data['End'].dt.time <= pd.to_datetime(task1_end_time).time())]\n",
    "\n",
    "task2_filtered = time_data[(time_data['Start'].dt.time >= pd.to_datetime(task2_start_time).time()) &\n",
    "                           (time_data['End'].dt.time <= pd.to_datetime(task2_end_time).time())]\n"
   ]
  },
  {
   "cell_type": "code",
   "execution_count": 5,
   "id": "0b8a9c9b-c0ad-4f5f-8b19-f3efb1cb84b3",
   "metadata": {},
   "outputs": [
    {
     "ename": "KeyError",
     "evalue": "'File'",
     "output_type": "error",
     "traceback": [
      "\u001b[0;31m---------------------------------------------------------------------------\u001b[0m",
      "\u001b[0;31mKeyError\u001b[0m                                  Traceback (most recent call last)",
      "File \u001b[0;32m~/anaconda3/lib/python3.12/site-packages/pandas/core/indexes/base.py:3805\u001b[0m, in \u001b[0;36mIndex.get_loc\u001b[0;34m(self, key)\u001b[0m\n\u001b[1;32m   3804\u001b[0m \u001b[38;5;28;01mtry\u001b[39;00m:\n\u001b[0;32m-> 3805\u001b[0m     \u001b[38;5;28;01mreturn\u001b[39;00m \u001b[38;5;28mself\u001b[39m\u001b[38;5;241m.\u001b[39m_engine\u001b[38;5;241m.\u001b[39mget_loc(casted_key)\n\u001b[1;32m   3806\u001b[0m \u001b[38;5;28;01mexcept\u001b[39;00m \u001b[38;5;167;01mKeyError\u001b[39;00m \u001b[38;5;28;01mas\u001b[39;00m err:\n",
      "File \u001b[0;32mindex.pyx:167\u001b[0m, in \u001b[0;36mpandas._libs.index.IndexEngine.get_loc\u001b[0;34m()\u001b[0m\n",
      "File \u001b[0;32mindex.pyx:196\u001b[0m, in \u001b[0;36mpandas._libs.index.IndexEngine.get_loc\u001b[0;34m()\u001b[0m\n",
      "File \u001b[0;32mpandas/_libs/hashtable_class_helper.pxi:7081\u001b[0m, in \u001b[0;36mpandas._libs.hashtable.PyObjectHashTable.get_item\u001b[0;34m()\u001b[0m\n",
      "File \u001b[0;32mpandas/_libs/hashtable_class_helper.pxi:7089\u001b[0m, in \u001b[0;36mpandas._libs.hashtable.PyObjectHashTable.get_item\u001b[0;34m()\u001b[0m\n",
      "\u001b[0;31mKeyError\u001b[0m: 'File'",
      "\nThe above exception was the direct cause of the following exception:\n",
      "\u001b[0;31mKeyError\u001b[0m                                  Traceback (most recent call last)",
      "Cell \u001b[0;32mIn[5], line 6\u001b[0m\n\u001b[1;32m      2\u001b[0m task1_transitions \u001b[38;5;241m=\u001b[39m task1_data[(task1_data[\u001b[38;5;124m'\u001b[39m\u001b[38;5;124mtime\u001b[39m\u001b[38;5;124m'\u001b[39m] \u001b[38;5;241m>\u001b[39m\u001b[38;5;241m=\u001b[39m task1_start_time) \u001b[38;5;241m&\u001b[39m \n\u001b[1;32m      3\u001b[0m                                (task1_data[\u001b[38;5;124m'\u001b[39m\u001b[38;5;124mtime\u001b[39m\u001b[38;5;124m'\u001b[39m] \u001b[38;5;241m<\u001b[39m\u001b[38;5;241m=\u001b[39m task1_end_time)]\n\u001b[1;32m      5\u001b[0m \u001b[38;5;66;03m# Detect file changes\u001b[39;00m\n\u001b[0;32m----> 6\u001b[0m task1_transitions[\u001b[38;5;124m'\u001b[39m\u001b[38;5;124mConflict\u001b[39m\u001b[38;5;124m'\u001b[39m] \u001b[38;5;241m=\u001b[39m task1_transitions[\u001b[38;5;124m'\u001b[39m\u001b[38;5;124mFile\u001b[39m\u001b[38;5;124m'\u001b[39m]\u001b[38;5;241m.\u001b[39mapply(\n\u001b[1;32m      7\u001b[0m     \u001b[38;5;28;01mlambda\u001b[39;00m x: \u001b[38;5;124m'\u001b[39m\u001b[38;5;124mConflict\u001b[39m\u001b[38;5;124m'\u001b[39m \u001b[38;5;28;01mif\u001b[39;00m x\u001b[38;5;241m.\u001b[39mendswith(\u001b[38;5;124m'\u001b[39m\u001b[38;5;124m.py\u001b[39m\u001b[38;5;124m'\u001b[39m) \u001b[38;5;129;01mand\u001b[39;00m prev\u001b[38;5;241m.\u001b[39mendswith(\u001b[38;5;124m'\u001b[39m\u001b[38;5;124m.c\u001b[39m\u001b[38;5;124m'\u001b[39m) \u001b[38;5;129;01mor\u001b[39;00m\n\u001b[1;32m      8\u001b[0m                           x\u001b[38;5;241m.\u001b[39mendswith(\u001b[38;5;124m'\u001b[39m\u001b[38;5;124m.c\u001b[39m\u001b[38;5;124m'\u001b[39m) \u001b[38;5;129;01mand\u001b[39;00m prev\u001b[38;5;241m.\u001b[39mendswith(\u001b[38;5;124m'\u001b[39m\u001b[38;5;124m.py\u001b[39m\u001b[38;5;124m'\u001b[39m) \u001b[38;5;28;01melse\u001b[39;00m \u001b[38;5;124m'\u001b[39m\u001b[38;5;124mNo Conflict\u001b[39m\u001b[38;5;124m'\u001b[39m,\n\u001b[1;32m      9\u001b[0m     prev\u001b[38;5;241m=\u001b[39m\u001b[38;5;124m'\u001b[39m\u001b[38;5;124m'\u001b[39m\n\u001b[1;32m     10\u001b[0m )\n\u001b[1;32m     12\u001b[0m \u001b[38;5;28mprint\u001b[39m(task1_transitions)\n",
      "File \u001b[0;32m~/anaconda3/lib/python3.12/site-packages/pandas/core/frame.py:4102\u001b[0m, in \u001b[0;36mDataFrame.__getitem__\u001b[0;34m(self, key)\u001b[0m\n\u001b[1;32m   4100\u001b[0m \u001b[38;5;28;01mif\u001b[39;00m \u001b[38;5;28mself\u001b[39m\u001b[38;5;241m.\u001b[39mcolumns\u001b[38;5;241m.\u001b[39mnlevels \u001b[38;5;241m>\u001b[39m \u001b[38;5;241m1\u001b[39m:\n\u001b[1;32m   4101\u001b[0m     \u001b[38;5;28;01mreturn\u001b[39;00m \u001b[38;5;28mself\u001b[39m\u001b[38;5;241m.\u001b[39m_getitem_multilevel(key)\n\u001b[0;32m-> 4102\u001b[0m indexer \u001b[38;5;241m=\u001b[39m \u001b[38;5;28mself\u001b[39m\u001b[38;5;241m.\u001b[39mcolumns\u001b[38;5;241m.\u001b[39mget_loc(key)\n\u001b[1;32m   4103\u001b[0m \u001b[38;5;28;01mif\u001b[39;00m is_integer(indexer):\n\u001b[1;32m   4104\u001b[0m     indexer \u001b[38;5;241m=\u001b[39m [indexer]\n",
      "File \u001b[0;32m~/anaconda3/lib/python3.12/site-packages/pandas/core/indexes/base.py:3812\u001b[0m, in \u001b[0;36mIndex.get_loc\u001b[0;34m(self, key)\u001b[0m\n\u001b[1;32m   3807\u001b[0m     \u001b[38;5;28;01mif\u001b[39;00m \u001b[38;5;28misinstance\u001b[39m(casted_key, \u001b[38;5;28mslice\u001b[39m) \u001b[38;5;129;01mor\u001b[39;00m (\n\u001b[1;32m   3808\u001b[0m         \u001b[38;5;28misinstance\u001b[39m(casted_key, abc\u001b[38;5;241m.\u001b[39mIterable)\n\u001b[1;32m   3809\u001b[0m         \u001b[38;5;129;01mand\u001b[39;00m \u001b[38;5;28many\u001b[39m(\u001b[38;5;28misinstance\u001b[39m(x, \u001b[38;5;28mslice\u001b[39m) \u001b[38;5;28;01mfor\u001b[39;00m x \u001b[38;5;129;01min\u001b[39;00m casted_key)\n\u001b[1;32m   3810\u001b[0m     ):\n\u001b[1;32m   3811\u001b[0m         \u001b[38;5;28;01mraise\u001b[39;00m InvalidIndexError(key)\n\u001b[0;32m-> 3812\u001b[0m     \u001b[38;5;28;01mraise\u001b[39;00m \u001b[38;5;167;01mKeyError\u001b[39;00m(key) \u001b[38;5;28;01mfrom\u001b[39;00m \u001b[38;5;21;01merr\u001b[39;00m\n\u001b[1;32m   3813\u001b[0m \u001b[38;5;28;01mexcept\u001b[39;00m \u001b[38;5;167;01mTypeError\u001b[39;00m:\n\u001b[1;32m   3814\u001b[0m     \u001b[38;5;66;03m# If we have a listlike key, _check_indexing_error will raise\u001b[39;00m\n\u001b[1;32m   3815\u001b[0m     \u001b[38;5;66;03m#  InvalidIndexError. Otherwise we fall through and re-raise\u001b[39;00m\n\u001b[1;32m   3816\u001b[0m     \u001b[38;5;66;03m#  the TypeError.\u001b[39;00m\n\u001b[1;32m   3817\u001b[0m     \u001b[38;5;28mself\u001b[39m\u001b[38;5;241m.\u001b[39m_check_indexing_error(key)\n",
      "\u001b[0;31mKeyError\u001b[0m: 'File'"
     ]
    }
   ],
   "source": [
    "# Example for task 1 transitions\n",
    "task1_transitions = task1_data[(task1_data['time'] >= task1_start_time) & \n",
    "                               (task1_data['time'] <= task1_end_time)]\n",
    "\n",
    "# Detect file changes\n",
    "task1_transitions['Conflict'] = task1_transitions['File'].apply(\n",
    "    lambda x: 'Conflict' if x.endswith('.py') and prev.endswith('.c') or\n",
    "                          x.endswith('.c') and prev.endswith('.py') else 'No Conflict',\n",
    "    prev=''\n",
    ")\n",
    "\n",
    "print(task1_transitions)\n"
   ]
  },
  {
   "cell_type": "code",
   "execution_count": 4,
   "id": "a3c36fd0-ea79-4c66-93d4-7c68187bdba6",
   "metadata": {},
   "outputs": [
    {
     "name": "stdout",
     "output_type": "stream",
     "text": [
      "Index(['val', '1', '2', '3', '4', '5', '6', '7', '8', 'time'], dtype='object')\n",
      "Index(['val', '1', '2', '3', '4', '5', '6', '7', '8', 'time'], dtype='object')\n"
     ]
    }
   ],
   "source": [
    "print(task1_data.columns)\n",
    "print(task2_data.columns)\n",
    "\n"
   ]
  },
  {
   "cell_type": "code",
   "execution_count": 6,
   "id": "69078e9d-242b-47c0-9f1f-1d14c8df02f6",
   "metadata": {},
   "outputs": [
    {
     "data": {
      "text/html": [
       "<div>\n",
       "<style scoped>\n",
       "    .dataframe tbody tr th:only-of-type {\n",
       "        vertical-align: middle;\n",
       "    }\n",
       "\n",
       "    .dataframe tbody tr th {\n",
       "        vertical-align: top;\n",
       "    }\n",
       "\n",
       "    .dataframe thead th {\n",
       "        text-align: right;\n",
       "    }\n",
       "</style>\n",
       "<table border=\"1\" class=\"dataframe\">\n",
       "  <thead>\n",
       "    <tr style=\"text-align: right;\">\n",
       "      <th></th>\n",
       "      <th>Participant</th>\n",
       "      <th>Type</th>\n",
       "      <th>File</th>\n",
       "      <th>Start</th>\n",
       "      <th>End</th>\n",
       "    </tr>\n",
       "  </thead>\n",
       "  <tbody>\n",
       "    <tr>\n",
       "      <th>0</th>\n",
       "      <td>1</td>\n",
       "      <td>1</td>\n",
       "      <td>1</td>\n",
       "      <td>1900-01-01 10:28:00</td>\n",
       "      <td>1900-01-01 10:32:00</td>\n",
       "    </tr>\n",
       "    <tr>\n",
       "      <th>1</th>\n",
       "      <td>1</td>\n",
       "      <td>1</td>\n",
       "      <td>2</td>\n",
       "      <td>1900-01-01 10:32:00</td>\n",
       "      <td>1900-01-01 10:35:00</td>\n",
       "    </tr>\n",
       "    <tr>\n",
       "      <th>2</th>\n",
       "      <td>1</td>\n",
       "      <td>1</td>\n",
       "      <td>3</td>\n",
       "      <td>1900-01-01 10:35:00</td>\n",
       "      <td>1900-01-01 10:37:00</td>\n",
       "    </tr>\n",
       "    <tr>\n",
       "      <th>3</th>\n",
       "      <td>1</td>\n",
       "      <td>1</td>\n",
       "      <td>4</td>\n",
       "      <td>1900-01-01 10:37:00</td>\n",
       "      <td>1900-01-01 10:40:00</td>\n",
       "    </tr>\n",
       "    <tr>\n",
       "      <th>4</th>\n",
       "      <td>1</td>\n",
       "      <td>2</td>\n",
       "      <td>1</td>\n",
       "      <td>1900-01-01 10:43:00</td>\n",
       "      <td>1900-01-01 10:46:00</td>\n",
       "    </tr>\n",
       "  </tbody>\n",
       "</table>\n",
       "</div>"
      ],
      "text/plain": [
       "   Participant  Type  File               Start                 End\n",
       "0            1     1     1 1900-01-01 10:28:00 1900-01-01 10:32:00\n",
       "1            1     1     2 1900-01-01 10:32:00 1900-01-01 10:35:00\n",
       "2            1     1     3 1900-01-01 10:35:00 1900-01-01 10:37:00\n",
       "3            1     1     4 1900-01-01 10:37:00 1900-01-01 10:40:00\n",
       "4            1     2     1 1900-01-01 10:43:00 1900-01-01 10:46:00"
      ]
     },
     "execution_count": 6,
     "metadata": {},
     "output_type": "execute_result"
    }
   ],
   "source": [
    "time_data.head()"
   ]
  },
  {
   "cell_type": "code",
   "execution_count": null,
   "id": "a24f4334-6cea-4906-86c4-867222606c46",
   "metadata": {},
   "outputs": [],
   "source": []
  }
 ],
 "metadata": {
  "kernelspec": {
   "display_name": "Python 3 (ipykernel)",
   "language": "python",
   "name": "python3"
  },
  "language_info": {
   "codemirror_mode": {
    "name": "ipython",
    "version": 3
   },
   "file_extension": ".py",
   "mimetype": "text/x-python",
   "name": "python",
   "nbconvert_exporter": "python",
   "pygments_lexer": "ipython3",
   "version": "3.12.2"
  }
 },
 "nbformat": 4,
 "nbformat_minor": 5
}

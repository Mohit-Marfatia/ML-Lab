{
  "nbformat": 4,
  "nbformat_minor": 0,
  "metadata": {
    "colab": {
      "provenance": []
    },
    "kernelspec": {
      "name": "python3",
      "display_name": "Python 3"
    },
    "language_info": {
      "name": "python"
    }
  },
  "cells": [
    {
      "cell_type": "markdown",
      "source": [
        "# House Price Prediction\n",
        "\n",
        "Think of finding the perfect house as a complex journey involving negotiations, research, and decision-making. Now, imagine having a smart guide that helps you navigate through this maze by analyzing data and predicting outcomes. Linear regression is that guide. In this tutorial, we'll explore how linear regression helps us understand and predict relationships in data, just like finding the ideal house by matching features with price. Let's get started and discover how this powerful tool can simplify your data-driven decisions!"
      ],
      "metadata": {
        "id": "i6sPnhMH0raw"
      }
    },
    {
      "cell_type": "markdown",
      "source": [
        "## Setup\n",
        "\n",
        "The House Price Prediction Dataset contains 13 features\n",
        "\n",
        "| #  | Column Name    | Description                                                         |\n",
        "|----|----------------|---------------------------------------------------------------------|\n",
        "| 1  | Id             | To count the records.                                               |\n",
        "| 2  | MSSubClass     | Identifies the type of dwelling involved in the sale.               |\n",
        "| 3  | MSZoning       | Identifies the general zoning classification of the sale.           |\n",
        "| 4  | LotArea        | Lot size in square feet.                                            |\n",
        "| 5  | LotConfig      | Configuration of the lot                                            |\n",
        "| 6  | BldgType       | Type of dwelling                                                    |\n",
        "| 7  | OverallCond    | Rates the overall condition of the house                            |\n",
        "| 8  | YearBuilt      | Original construction year                                          |\n",
        "| 9  | YearRemodAdd   | Remodel date (same as construction date if no remodeling or additions). |\n",
        "| 10 | Exterior1st    | Exterior covering on house                                          |\n",
        "| 11 | BsmtFinSF2     | Type 2 finished square feet.                                        |\n",
        "| 12 | TotalBsmtSF    | Total square feet of basement area                                  |\n",
        "| 13 | SalePrice      | To be predicted                                                     |\n",
        "\n",
        "\n",
        "Run the cell below to download dataset"
      ],
      "metadata": {
        "id": "huwdh4Es3EZ2"
      }
    },
    {
      "cell_type": "code",
      "execution_count": null,
      "metadata": {
        "colab": {
          "base_uri": "https://localhost:8080/"
        },
        "id": "W5Y7ZPKz0nf8",
        "outputId": "59427fb0-eca8-4437-848e-4fdbd8b9f022"
      },
      "outputs": [
        {
          "output_type": "stream",
          "name": "stdout",
          "text": [
            "--2024-08-19 07:41:43--  https://docs.google.com/spreadsheets/d/1caaR9pT24GNmq3rDQpMiIMJrmiTGarbs/export?format=csv&id=1caaR9pT24GNmq3rDQpMiIMJrmiTGarbs&gid=1150341366\n",
            "Resolving docs.google.com (docs.google.com)... 74.125.128.101, 74.125.128.113, 74.125.128.139, ...\n",
            "Connecting to docs.google.com (docs.google.com)|74.125.128.101|:443... connected.\n",
            "HTTP request sent, awaiting response... 307 Temporary Redirect\n",
            "Location: https://doc-08-30-sheets.googleusercontent.com/export/54bogvaave6cua4cdnls17ksc4/mfca48r2r33em2m5fqs445buuo/1724053300000/115253717745408081083/*/1caaR9pT24GNmq3rDQpMiIMJrmiTGarbs?format=csv&id=1caaR9pT24GNmq3rDQpMiIMJrmiTGarbs&gid=1150341366 [following]\n",
            "Warning: wildcards not supported in HTTP.\n",
            "--2024-08-19 07:41:44--  https://doc-08-30-sheets.googleusercontent.com/export/54bogvaave6cua4cdnls17ksc4/mfca48r2r33em2m5fqs445buuo/1724053300000/115253717745408081083/*/1caaR9pT24GNmq3rDQpMiIMJrmiTGarbs?format=csv&id=1caaR9pT24GNmq3rDQpMiIMJrmiTGarbs&gid=1150341366\n",
            "Resolving doc-08-30-sheets.googleusercontent.com (doc-08-30-sheets.googleusercontent.com)... 108.177.127.132, 2a00:1450:4013:c07::84\n",
            "Connecting to doc-08-30-sheets.googleusercontent.com (doc-08-30-sheets.googleusercontent.com)|108.177.127.132|:443... connected.\n",
            "HTTP request sent, awaiting response... 200 OK\n",
            "Length: unspecified [text/csv]\n",
            "Saving to: ‘dataset.csv’\n",
            "\n",
            "dataset.csv             [ <=>                ] 171.41K  --.-KB/s    in 0.03s   \n",
            "\n",
            "2024-08-19 07:41:44 (5.00 MB/s) - ‘dataset.csv’ saved [175524]\n",
            "\n"
          ]
        }
      ],
      "source": [
        "!wget -O dataset.csv \"https://docs.google.com/spreadsheets/d/1caaR9pT24GNmq3rDQpMiIMJrmiTGarbs/export?format=csv&id=1caaR9pT24GNmq3rDQpMiIMJrmiTGarbs&gid=1150341366\""
      ]
    },
    {
      "cell_type": "markdown",
      "source": [
        "## EDA"
      ],
      "metadata": {
        "id": "ecr_wCDI7tcT"
      }
    },
    {
      "cell_type": "markdown",
      "source": [
        "### Create and Display DataFrame\n",
        "\n",
        "pd.read_csv: Reads the CSV file into a DataFrame.\n",
        "\n",
        "df.columns.tolist(): Retrieves the column names from the DataFrame.\n",
        "\n",
        "df.head(): Displays the first few rows of the DataFrame for a quick preview."
      ],
      "metadata": {
        "id": "KLdgiCGJ9dN-"
      }
    },
    {
      "cell_type": "code",
      "source": [
        "import pandas as pd\n",
        "\n",
        "def create_and_display_dataframe(file_path):\n",
        "    df = pd.read_csv(file_path)\n",
        "\n",
        "    print(\"DataFrame created successfully!\")\n",
        "    print(\"\\nColumn Names:\")\n",
        "    print(df.columns.tolist())\n",
        "\n",
        "    print(\"\\nData:\")\n",
        "    print(df.head())\n",
        "\n",
        "file_path = '/content/dataset.csv'\n",
        "create_and_display_dataframe(file_path)"
      ],
      "metadata": {
        "colab": {
          "base_uri": "https://localhost:8080/"
        },
        "id": "NhdMHsM4831s",
        "outputId": "474be38d-461a-43f5-cb58-7b04f6a8ea77"
      },
      "execution_count": null,
      "outputs": [
        {
          "output_type": "stream",
          "name": "stdout",
          "text": [
            "DataFrame created successfully!\n",
            "\n",
            "Column Names:\n",
            "['Id', 'MSSubClass', 'MSZoning', 'LotArea', 'LotConfig', 'BldgType', 'OverallCond', 'YearBuilt', 'YearRemodAdd', 'Exterior1st', 'BsmtFinSF2', 'TotalBsmtSF', 'SalePrice']\n",
            "\n",
            "Data:\n",
            "   Id  MSSubClass MSZoning  LotArea LotConfig BldgType  OverallCond  \\\n",
            "0   0          60       RL     8450    Inside     1Fam            5   \n",
            "1   1          20       RL     9600       FR2     1Fam            8   \n",
            "2   2          60       RL    11250    Inside     1Fam            5   \n",
            "3   3          70       RL     9550    Corner     1Fam            5   \n",
            "4   4          60       RL    14260       FR2     1Fam            5   \n",
            "\n",
            "   YearBuilt  YearRemodAdd Exterior1st  BsmtFinSF2  TotalBsmtSF  SalePrice  \n",
            "0       2003          2003     VinylSd         0.0        856.0   208500.0  \n",
            "1       1976          1976     MetalSd         0.0       1262.0   181500.0  \n",
            "2       2001          2002     VinylSd         0.0        920.0   223500.0  \n",
            "3       1915          1970     Wd Sdng         0.0        756.0   140000.0  \n",
            "4       2000          2000     VinylSd         0.0       1145.0   250000.0  \n"
          ]
        }
      ]
    },
    {
      "cell_type": "markdown",
      "source": [
        "### Correlation Matrix\n",
        "\n",
        "The correlation coefficient between two variables\n",
        "X and\n",
        "Y can be calculated using the formula:\n",
        "\n",
        "![cov1.png](data:image/png;base64,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)\n",
        "\n",
        "Here’s how you can calculate the correlation matrix **manually** using the pandas DataFrame:"
      ],
      "metadata": {
        "id": "hSf2soXG-ceA"
      }
    },
    {
      "cell_type": "code",
      "source": [
        "class DataFrame:\n",
        "    def __init__(self, file_path):\n",
        "        self.df = pd.read_csv(file_path)\n",
        "\n",
        "    def calculate_correlation_matrix(self):\n",
        "        # Get numerical columns\n",
        "        numerical_columns = self.df.select_dtypes(include=['float64', 'int64']).columns\n",
        "        num_cols = len(numerical_columns)\n",
        "\n",
        "        # Create an empty correlation matrix\n",
        "        corr_matrix = {col: {col2: 0 for col2 in numerical_columns} for col in numerical_columns}\n",
        "\n",
        "        for i in range(num_cols):\n",
        "            for j in range(i, num_cols):\n",
        "                col1 = numerical_columns[i]\n",
        "                col2 = numerical_columns[j]\n",
        "\n",
        "                # Calculate mean\n",
        "                mean1 = self.df[col1].mean()\n",
        "                mean2 = self.df[col2].mean()\n",
        "\n",
        "                # Calculate covariance\n",
        "                covariance = ((self.df[col1] - mean1) * (self.df[col2] - mean2)).mean()\n",
        "\n",
        "                # Calculate standard deviations\n",
        "                std_dev1 = self.df[col1].std()\n",
        "                std_dev2 = self.df[col2].std()\n",
        "\n",
        "                # Calculate correlation\n",
        "                correlation = covariance / (std_dev1 * std_dev2)\n",
        "\n",
        "                # Store in matrix\n",
        "                corr_matrix[col1][col2] = correlation\n",
        "                corr_matrix[col2][col1] = correlation  # Symmetric matrix\n",
        "\n",
        "        return corr_matrix\n",
        "\n",
        "    def display_correlation_matrix(self):\n",
        "        corr_matrix = self.calculate_correlation_matrix()\n",
        "        print(\"Correlation Matrix:\")\n",
        "        for col1, row in corr_matrix.items():\n",
        "            print(f\"{col1}: {row}\")\n",
        "\n",
        "file_path = '/content/dataset.csv'\n",
        "df = DataFrame(file_path)\n",
        "df.display_correlation_matrix()\n"
      ],
      "metadata": {
        "colab": {
          "base_uri": "https://localhost:8080/"
        },
        "id": "HCg9xSy_9VUB",
        "outputId": "fc88ebd1-54c0-4f38-f29a-a32d53a9e83f"
      },
      "execution_count": null,
      "outputs": [
        {
          "output_type": "stream",
          "name": "stdout",
          "text": [
            "Correlation Matrix:\n",
            "Id: {'Id': 0.9996574169236039, 'MSSubClass': 0.008927562480306352, 'LotArea': -0.0407321028950552, 'OverallCond': -0.002838510751975099, 'YearBuilt': -0.01657533184893819, 'YearRemodAdd': -0.05042031403232767, 'BsmtFinSF2': 0.018245950570756973, 'TotalBsmtSF': -0.024917399703561802, 'SalePrice': -0.010956479916617771}\n",
            "MSSubClass: {'Id': 0.008927562480306352, 'MSSubClass': 0.9996574169236039, 'LotArea': -0.20166093967197754, 'OverallCond': -0.06560255579623428, 'YearBuilt': 0.03439695580602711, 'YearRemodAdd': 0.04330007459603745, 'BsmtFinSF2': -0.07250762840452592, 'TotalBsmtSF': -0.21989847983040878, 'SalePrice': -0.08379642185504654}\n",
            "LotArea: {'Id': -0.0407321028950552, 'MSSubClass': -0.20166093967197754, 'LotArea': 0.999657416923604, 'OverallCond': -0.03560499881535773, 'YearBuilt': 0.0241195581530019, 'YearRemodAdd': 0.021604859270227504, 'BsmtFinSF2': 0.08404013983833278, 'TotalBsmtSF': 0.2540817476113896, 'SalePrice': 0.333674130842095}\n",
            "OverallCond: {'Id': -0.002838510751975099, 'MSSubClass': -0.06560255579623428, 'LotArea': -0.03560499881535773, 'OverallCond': 0.999657416923604, 'YearBuilt': -0.36835045461557436, 'YearRemodAdd': 0.04763768915013037, 'BsmtFinSF2': 0.04148225197214482, 'TotalBsmtSF': -0.17392254934878815, 'SalePrice': -0.07777940410944484}\n",
            "YearBuilt: {'Id': -0.01657533184893819, 'MSSubClass': 0.03439695580602711, 'LotArea': 0.0241195581530019, 'OverallCond': -0.36835045461557436, 'YearBuilt': 0.9996574169236039, 'YearRemodAdd': 0.6120248285532728, 'BsmtFinSF2': -0.02758664362635253, 'TotalBsmtSF': 0.4083956282217249, 'SalePrice': 0.5210118777503243}\n",
            "YearRemodAdd: {'Id': -0.05042031403232767, 'MSSubClass': 0.04330007459603745, 'LotArea': 0.021604859270227504, 'OverallCond': 0.04763768915013037, 'YearBuilt': 0.6120248285532728, 'YearRemodAdd': 0.9996574169236041, 'BsmtFinSF2': -0.062113952131322744, 'TotalBsmtSF': 0.2979181175899782, 'SalePrice': 0.5007161212690244}\n",
            "BsmtFinSF2: {'Id': 0.018245950570756973, 'MSSubClass': -0.07250762840452592, 'LotArea': 0.08404013983833278, 'OverallCond': 0.04148225197214482, 'YearBuilt': -0.02758664362635253, 'YearRemodAdd': -0.062113952131322744, 'BsmtFinSF2': 0.9996572995202193, 'TotalBsmtSF': 0.08937931109175348, 'SalePrice': -0.010840379745732428}\n",
            "TotalBsmtSF: {'Id': -0.024917399703561802, 'MSSubClass': -0.21989847983040878, 'LotArea': 0.2540817476113896, 'OverallCond': -0.17392254934878815, 'YearBuilt': 0.4083956282217249, 'YearRemodAdd': 0.2979181175899782, 'BsmtFinSF2': 0.08937931109175348, 'TotalBsmtSF': 0.9996572995202194, 'SalePrice': 0.6102932777069716}\n",
            "SalePrice: {'Id': -0.010956479916617771, 'MSSubClass': -0.08379642185504654, 'LotArea': 0.333674130842095, 'OverallCond': -0.07777940410944484, 'YearBuilt': 0.5210118777503243, 'YearRemodAdd': 0.5007161212690244, 'BsmtFinSF2': -0.010840379745732428, 'TotalBsmtSF': 0.6102932777069716, 'SalePrice': 0.9993150684931505}\n"
          ]
        }
      ]
    },
    {
      "cell_type": "markdown",
      "source": [
        "Using pandas, you can easily compute the correlation matrix with just a single method call. The output is cleaner, easier to interpret, and consistent with standard practices, making it a more efficient choice for handling real-world data tasks"
      ],
      "metadata": {
        "id": "5J-Lcp5S_0O1"
      }
    },
    {
      "cell_type": "code",
      "source": [
        "import seaborn as sns\n",
        "import matplotlib.pyplot as plt\n",
        "\n",
        "df = pd.read_csv('/content/dataset.csv')\n",
        "\n",
        "\n",
        "numeric_df = df.select_dtypes(include=['float64', 'int64'])\n",
        "\n",
        "# Compute the correlation matrix\n",
        "corr_matrix = numeric_df.corr()\n",
        "\n",
        "plt.figure(figsize=(10, 8))\n",
        "sns.heatmap(corr_matrix, annot=True, fmt='.2f', cmap='coolwarm', vmin=-1, vmax=1, center=0)\n",
        "\n",
        "plt.title('Correlation Matrix Heatmap')\n",
        "plt.show()"
      ],
      "metadata": {
        "colab": {
          "base_uri": "https://localhost:8080/",
          "height": 788
        },
        "id": "ZkzU19EO_vLw",
        "outputId": "1eb228eb-4d7e-4fd1-e519-fca38e6caf44"
      },
      "execution_count": null,
      "outputs": [
        {
          "output_type": "display_data",
          "data": {
            "text/plain": [
              "<Figure size 1000x800 with 2 Axes>"
            ],
            "image/png": "[encoded data removed]"
          },
          "metadata": {}
        }
      ]
    },
    {
      "cell_type": "markdown",
      "source": [
        "### Mean, Median, Mode"
      ],
      "metadata": {
        "id": "lh3HJUOXBnRH"
      }
    },
    {
      "cell_type": "code",
      "source": [
        "print(\"Statistics for Numeric Columns:\")\n",
        "for column in numeric_df.columns:\n",
        "    print(f\"\\nColumn: {column}\")\n",
        "    print(f\"Mean: {numeric_df[column].mean()}\")\n",
        "    print(f\"Median: {numeric_df[column].median()}\")\n",
        "    print(f\"Mode: {numeric_df[column].mode()[0]}\")"
      ],
      "metadata": {
        "colab": {
          "base_uri": "https://localhost:8080/"
        },
        "id": "nFLvh7cPArWH",
        "outputId": "61e8edda-0547-48ce-8e85-1e4c5af20b21"
      },
      "execution_count": null,
      "outputs": [
        {
          "output_type": "stream",
          "name": "stdout",
          "text": [
            "Statistics for Numeric Columns:\n",
            "\n",
            "Column: Id\n",
            "Mean: 1459.0\n",
            "Median: 1459.0\n",
            "Mode: 0\n",
            "\n",
            "Column: MSSubClass\n",
            "Mean: 57.1377183967112\n",
            "Median: 50.0\n",
            "Mode: 20\n",
            "\n",
            "Column: LotArea\n",
            "Mean: 10168.11408016444\n",
            "Median: 9453.0\n",
            "Mode: 9600\n",
            "\n",
            "Column: OverallCond\n",
            "Mean: 5.564576909900651\n",
            "Median: 5.0\n",
            "Mode: 5\n",
            "\n",
            "Column: YearBuilt\n",
            "Mean: 1971.3127783487496\n",
            "Median: 1973.0\n",
            "Mode: 2005\n",
            "\n",
            "Column: YearRemodAdd\n",
            "Mean: 1984.2644741349777\n",
            "Median: 1993.0\n",
            "Mode: 1950\n",
            "\n",
            "Column: BsmtFinSF2\n",
            "Mean: 49.58224811514736\n",
            "Median: 0.0\n",
            "Mode: 0.0\n",
            "\n",
            "Column: TotalBsmtSF\n",
            "Mean: 1051.7775873886224\n",
            "Median: 989.5\n",
            "Mode: 0.0\n",
            "\n",
            "Column: SalePrice\n",
            "Mean: 180921.19589041095\n",
            "Median: 163000.0\n",
            "Mode: 140000.0\n"
          ]
        }
      ]
    },
    {
      "cell_type": "markdown",
      "source": [
        "### Count NA values"
      ],
      "metadata": {
        "id": "sEmslgVqB_EK"
      }
    },
    {
      "cell_type": "code",
      "source": [
        "def count_na_values(df):\n",
        "    na_counts = {col: 0 for col in df.columns}\n",
        "\n",
        "    # Iterate through each row and column\n",
        "    for index, row in df.iterrows():\n",
        "        for col in df.columns:\n",
        "            # Check for NA values\n",
        "            if pd.isna(row[col]):\n",
        "                na_counts[col] += 1\n",
        "\n",
        "    print(\"Columns with NA values:\")\n",
        "    for column, count in na_counts.items():\n",
        "        if count > 0:\n",
        "            print(f\"{column}: {count}\")\n",
        "\n",
        "count_na_values(df)"
      ],
      "metadata": {
        "colab": {
          "base_uri": "https://localhost:8080/"
        },
        "id": "fZlMMiu_B6hP",
        "outputId": "c96a35d3-48f5-4556-f445-6cff6ff74cbb"
      },
      "execution_count": null,
      "outputs": [
        {
          "output_type": "stream",
          "name": "stdout",
          "text": [
            "Columns with NA values:\n",
            "MSZoning: 4\n",
            "Exterior1st: 1\n",
            "BsmtFinSF2: 1\n",
            "TotalBsmtSF: 1\n",
            "SalePrice: 1459\n"
          ]
        }
      ]
    },
    {
      "cell_type": "markdown",
      "source": [
        "### Range"
      ],
      "metadata": {
        "id": "axqEIpelDKWz"
      }
    },
    {
      "cell_type": "code",
      "source": [
        "def calculate_min_max(df):\n",
        "    min_values = {}\n",
        "    max_values = {}\n",
        "\n",
        "    # Iterate over each column\n",
        "    for col in df.columns:\n",
        "        # Skip non-numeric columns\n",
        "        if df[col].dtype in ['float64', 'int64']:\n",
        "            min_value = float('inf')\n",
        "            max_value = float('-inf')\n",
        "\n",
        "            # Iterate over each value in the column\n",
        "            for value in df[col]:\n",
        "                # Check for NA values and skip them\n",
        "                if pd.isna(value):\n",
        "                    continue\n",
        "\n",
        "                if value < min_value:\n",
        "                    min_value = value\n",
        "                if value > max_value:\n",
        "                    max_value = value\n",
        "\n",
        "            if min_value != float('inf') and max_value != float('-inf'):\n",
        "                min_values[col] = min_value\n",
        "                max_values[col] = max_value\n",
        "\n",
        "    print(\"Minimum and Maximum Values for Numeric Columns:\")\n",
        "    for col in min_values:\n",
        "        print(f\"{col}: Min = {min_values[col]}, Max = {max_values[col]}\")\n",
        "\n",
        "calculate_min_max(df)\n"
      ],
      "metadata": {
        "colab": {
          "base_uri": "https://localhost:8080/"
        },
        "id": "KWQy6HdmCbs6",
        "outputId": "29cd97bd-0f9a-48ec-cc00-97f3c9698ca2"
      },
      "execution_count": null,
      "outputs": [
        {
          "output_type": "stream",
          "name": "stdout",
          "text": [
            "Minimum and Maximum Values for Numeric Columns:\n",
            "Id: Min = 0, Max = 2918\n",
            "MSSubClass: Min = 20, Max = 190\n",
            "LotArea: Min = 1300, Max = 215245\n",
            "OverallCond: Min = 1, Max = 9\n",
            "YearBuilt: Min = 1872, Max = 2010\n",
            "YearRemodAdd: Min = 1950, Max = 2010\n",
            "BsmtFinSF2: Min = 0.0, Max = 1526.0\n",
            "TotalBsmtSF: Min = 0.0, Max = 6110.0\n",
            "SalePrice: Min = 34900.0, Max = 755000.0\n"
          ]
        }
      ]
    },
    {
      "cell_type": "markdown",
      "source": [
        "### Categorical Columns"
      ],
      "metadata": {
        "id": "JirLmOE4DNZZ"
      }
    },
    {
      "cell_type": "code",
      "source": [
        "categorical_columns = df.select_dtypes(include=['object', 'category']).columns\n",
        "\n",
        "unique_counts = df[categorical_columns].nunique()\n",
        "\n",
        "plt.figure(figsize=(10, 6))\n",
        "unique_counts.sort_values().plot(kind='barh', color='skyblue')\n",
        "plt.xlabel('Number of Unique Values')\n",
        "plt.ylabel('Categorical Features')\n",
        "plt.title('Number of Unique Values in Categorical Features')\n",
        "plt.show()"
      ],
      "metadata": {
        "colab": {
          "base_uri": "https://localhost:8080/",
          "height": 563
        },
        "id": "2lxPgYzsEjkh",
        "outputId": "2a7f72f0-6e12-47e8-e871-c0c1973f570f"
      },
      "execution_count": null,
      "outputs": [
        {
          "output_type": "display_data",
          "data": {
            "text/plain": [
              "<Figure size 1000x600 with 1 Axes>"
            ],
            "image/png": "[encoded data removed]"
          },
          "metadata": {}
        }
      ]
    },
    {
      "cell_type": "markdown",
      "source": [
        "To findout the actual count of each category we can plot the bargraph of each four features separately."
      ],
      "metadata": {
        "id": "OY-x5zN6F55B"
      }
    },
    {
      "cell_type": "code",
      "source": [
        "plt.figure(figsize=(18, 36))\n",
        "plt.title('Categorical Features: Distribution')\n",
        "plt.xticks(rotation=90)\n",
        "index = 1\n",
        "\n",
        "for col in categorical_columns:\n",
        "    y = df[col].value_counts()\n",
        "    plt.subplot(11, 4, index)\n",
        "    plt.xticks(rotation=90)\n",
        "    sns.barplot(x=list(y.index), y=y)\n",
        "    index += 1"
      ],
      "metadata": {
        "colab": {
          "base_uri": "https://localhost:8080/",
          "height": 382
        },
        "id": "FH6Pf9AcEyYL",
        "outputId": "ed142cd9-0e02-4d1a-b375-30ae016dde85"
      },
      "execution_count": null,
      "outputs": [
        {
          "output_type": "stream",
          "name": "stderr",
          "text": [
            "<ipython-input-9-e739720434fe>:8: MatplotlibDeprecationWarning: Auto-removal of overlapping axes is deprecated since 3.6 and will be removed two minor releases later; explicitly call ax.remove() as needed.\n",
            "  plt.subplot(11, 4, index)\n"
          ]
        },
        {
          "output_type": "display_data",
          "data": {
            "text/plain": [
              "<Figure size 1800x3600 with 4 Axes>"
            ],
            "image/png": "[encoded data removed]"
          },
          "metadata": {}
        }
      ]
    },
    {
      "cell_type": "markdown",
      "source": [
        "# Preprocessing"
      ],
      "metadata": {
        "id": "KtYExjQRHBQo"
      }
    },
    {
      "cell_type": "markdown",
      "source": [
        "As in our dataset, there are some columns that are not important and irrelevant for the model training. So, we can drop that column before training. There are 2 approaches to dealing with empty/null values\n",
        "\n",
        "We can easily delete the column/row (if the feature or record is not much important).\n",
        "\n",
        "Filling the empty slots with mean/mode/0/NA/etc. (depending on the dataset requirement).\n",
        "\n",
        "Dropping ID Column as it doesn't participate in prediction\n"
      ],
      "metadata": {
        "id": "y6V1OOb8E-9D"
      }
    },
    {
      "cell_type": "code",
      "source": [
        "df.drop(['Id'],\n",
        "\t\t\taxis=1,\n",
        "\t\t\tinplace=True)\n"
      ],
      "metadata": {
        "id": "x7n5GmAWwoO_"
      },
      "execution_count": null,
      "outputs": []
    },
    {
      "cell_type": "code",
      "source": [
        "# Custom function to fill missing values with the mean\n",
        "pd.options.mode.chained_assignment = None  # default='warn'\n",
        "\n",
        "df_copy = df.copy()\n",
        "def fill_missing_with_mean(data, column_name):\n",
        "    \"\"\"\n",
        "    Args:\n",
        "        data: The pandas DataFrame containing the data.\n",
        "        column_name: The name of the column to fill missing values in.\n",
        "    \"\"\"\n",
        "    total_sum = 0\n",
        "    count = 0\n",
        "    for value in data[column_name]:\n",
        "        if not pd.isna(value):  # Check for missing values\n",
        "            total_sum += value\n",
        "            count += 1\n",
        "    mean_value = total_sum / count\n",
        "\n",
        "    # Replace missing values with the calculated mean\n",
        "    for i in range(len(data[column_name])):\n",
        "        if pd.isna(data[column_name][i]):\n",
        "            data[column_name][i] = mean_value\n",
        "\n",
        "fill_missing_with_mean(df_copy, 'SalePrice')\n",
        "count_na_values(df_copy)"
      ],
      "metadata": {
        "colab": {
          "base_uri": "https://localhost:8080/"
        },
        "id": "TuPS3m9fGmnf",
        "outputId": "7fbb4b86-f311-4e3c-ad2b-ad1324bf36d9"
      },
      "execution_count": null,
      "outputs": [
        {
          "output_type": "stream",
          "name": "stdout",
          "text": [
            "Columns with NA values:\n",
            "MSZoning: 4\n",
            "Exterior1st: 1\n",
            "BsmtFinSF2: 1\n",
            "TotalBsmtSF: 1\n"
          ]
        }
      ]
    },
    {
      "cell_type": "markdown",
      "source": [
        "It's a lot easier with Pandas"
      ],
      "metadata": {
        "id": "RLOKcTLZGyGB"
      }
    },
    {
      "cell_type": "code",
      "source": [
        "# df['SalePrice'].fillna(df['SalePrice'].mean(), inplace=True)\n",
        "# count_na_values(df)\n"
      ],
      "metadata": {
        "id": "XFWhKDBVGqGe"
      },
      "execution_count": null,
      "outputs": []
    },
    {
      "cell_type": "markdown",
      "source": [
        "As we can see there are still NA values available in the dataset but they're very less in number. So, dropping the records with Null values!\n",
        "\n"
      ],
      "metadata": {
        "id": "94P_JKZtGxjJ"
      }
    },
    {
      "cell_type": "code",
      "source": [
        "new_data = df_copy.dropna()\n",
        "count_na_values(new_data)"
      ],
      "metadata": {
        "colab": {
          "base_uri": "https://localhost:8080/"
        },
        "id": "2LrDmZryG9Pm",
        "outputId": "45c648d4-bc87-4a2d-c251-02522d32a1da"
      },
      "execution_count": null,
      "outputs": [
        {
          "output_type": "stream",
          "name": "stdout",
          "text": [
            "Columns with NA values:\n"
          ]
        }
      ]
    },
    {
      "cell_type": "markdown",
      "source": [
        "One hot Encoding is the best way to convert categorical data into binary vectors. This maps the values to integer values."
      ],
      "metadata": {
        "id": "WbG2fnsIHQmn"
      }
    },
    {
      "cell_type": "code",
      "source": [
        "def one_hot_encode(df, column_name):\n",
        "  \"\"\"\n",
        "  Args:\n",
        "    df: The pandas DataFrame containing the data.\n",
        "    column_name: The name of the column to one-hot encode.\n",
        "\n",
        "  Returns:\n",
        "    The DataFrame with the one-hot encoded columns.\n",
        "  \"\"\"\n",
        "  unique_values = df[column_name].unique()\n",
        "  for value in unique_values:\n",
        "    df[column_name + \"_\" + str(value)] = (df[column_name] == value).astype(int)\n",
        "  df = df.drop(column_name, axis=1)\n",
        "  return df\n",
        "\n",
        "df_encoded = one_hot_encode(new_data.copy(), 'MSZoning')\n",
        "print(df_encoded.head())"
      ],
      "metadata": {
        "colab": {
          "base_uri": "https://localhost:8080/"
        },
        "id": "N1LeRnnTG_x9",
        "outputId": "70f77b9d-c86c-4659-fce8-1922514005a5"
      },
      "execution_count": null,
      "outputs": [
        {
          "output_type": "stream",
          "name": "stdout",
          "text": [
            "   MSSubClass  LotArea LotConfig BldgType  OverallCond  YearBuilt  \\\n",
            "0          60     8450    Inside     1Fam            5       2003   \n",
            "1          20     9600       FR2     1Fam            8       1976   \n",
            "2          60    11250    Inside     1Fam            5       2001   \n",
            "3          70     9550    Corner     1Fam            5       1915   \n",
            "4          60    14260       FR2     1Fam            5       2000   \n",
            "\n",
            "   YearRemodAdd Exterior1st  BsmtFinSF2  TotalBsmtSF  SalePrice  MSZoning_RL  \\\n",
            "0          2003     VinylSd         0.0        856.0   208500.0            1   \n",
            "1          1976     MetalSd         0.0       1262.0   181500.0            1   \n",
            "2          2002     VinylSd         0.0        920.0   223500.0            1   \n",
            "3          1970     Wd Sdng         0.0        756.0   140000.0            1   \n",
            "4          2000     VinylSd         0.0       1145.0   250000.0            1   \n",
            "\n",
            "   MSZoning_RM  MSZoning_C (all)  MSZoning_FV  MSZoning_RH  \n",
            "0            0                 0            0            0  \n",
            "1            0                 0            0            0  \n",
            "2            0                 0            0            0  \n",
            "3            0                 0            0            0  \n",
            "4            0                 0            0            0  \n"
          ]
        }
      ]
    },
    {
      "cell_type": "markdown",
      "source": [
        "This can be easily implemented with Sklearn library"
      ],
      "metadata": {
        "id": "BjNQciWoHbTW"
      }
    },
    {
      "cell_type": "code",
      "source": [
        "from sklearn.preprocessing import OneHotEncoder\n",
        "\n",
        "s = (new_data.dtypes == 'object')\n",
        "object_cols = list(s[s].index)\n",
        "print(\"Categorical variables:\")\n",
        "print(object_cols)\n",
        "print('No. of. categorical features: ',\n",
        "\tlen(object_cols))"
      ],
      "metadata": {
        "colab": {
          "base_uri": "https://localhost:8080/"
        },
        "id": "Q0PeWhNYHTdl",
        "outputId": "e1c90011-1985-41b4-c694-b4503f7d715d"
      },
      "execution_count": null,
      "outputs": [
        {
          "output_type": "stream",
          "name": "stdout",
          "text": [
            "Categorical variables:\n",
            "['MSZoning', 'LotConfig', 'BldgType', 'Exterior1st']\n",
            "No. of. categorical features:  4\n"
          ]
        }
      ]
    },
    {
      "cell_type": "code",
      "source": [
        "OH_encoder = OneHotEncoder(sparse=False)\n",
        "OH_cols = pd.DataFrame(OH_encoder.fit_transform(new_data[object_cols]))\n",
        "OH_cols.index = new_data.index\n",
        "# Use get_feature_names_out() for newer scikit-learn versions\n",
        "OH_cols.columns = OH_encoder.get_feature_names_out()\n",
        "df_final = new_data.drop(object_cols, axis=1)\n",
        "df_final = pd.concat([df_final, OH_cols], axis=1)\n",
        "df_final.head()"
      ],
      "metadata": {
        "colab": {
          "base_uri": "https://localhost:8080/",
          "height": 298
        },
        "id": "HwH4nB9QILS8",
        "outputId": "aaa8fb92-0fc0-47ab-bf95-4e2aac1ec932"
      },
      "execution_count": null,
      "outputs": [
        {
          "output_type": "stream",
          "name": "stderr",
          "text": [
            "/usr/local/lib/python3.10/dist-packages/sklearn/preprocessing/_encoders.py:975: FutureWarning: `sparse` was renamed to `sparse_output` in version 1.2 and will be removed in 1.4. `sparse_output` is ignored unless you leave `sparse` to its default value.\n",
            "  warnings.warn(\n"
          ]
        },
        {
          "output_type": "execute_result",
          "data": {
            "text/plain": [
              "   MSSubClass  LotArea  OverallCond  YearBuilt  YearRemodAdd  BsmtFinSF2  \\\n",
              "0          60     8450            5       2003          2003         0.0   \n",
              "1          20     9600            8       1976          1976         0.0   \n",
              "2          60    11250            5       2001          2002         0.0   \n",
              "3          70     9550            5       1915          1970         0.0   \n",
              "4          60    14260            5       2000          2000         0.0   \n",
              "\n",
              "   TotalBsmtSF  SalePrice  MSZoning_C (all)  MSZoning_FV  ...  \\\n",
              "0        856.0   208500.0               0.0          0.0  ...   \n",
              "1       1262.0   181500.0               0.0          0.0  ...   \n",
              "2        920.0   223500.0               0.0          0.0  ...   \n",
              "3        756.0   140000.0               0.0          0.0  ...   \n",
              "4       1145.0   250000.0               0.0          0.0  ...   \n",
              "\n",
              "   Exterior1st_CemntBd  Exterior1st_HdBoard  Exterior1st_ImStucc  \\\n",
              "0                  0.0                  0.0                  0.0   \n",
              "1                  0.0                  0.0                  0.0   \n",
              "2                  0.0                  0.0                  0.0   \n",
              "3                  0.0                  0.0                  0.0   \n",
              "4                  0.0                  0.0                  0.0   \n",
              "\n",
              "   Exterior1st_MetalSd  Exterior1st_Plywood  Exterior1st_Stone  \\\n",
              "0                  0.0                  0.0                0.0   \n",
              "1                  1.0                  0.0                0.0   \n",
              "2                  0.0                  0.0                0.0   \n",
              "3                  0.0                  0.0                0.0   \n",
              "4                  0.0                  0.0                0.0   \n",
              "\n",
              "   Exterior1st_Stucco  Exterior1st_VinylSd  Exterior1st_Wd Sdng  \\\n",
              "0                 0.0                  1.0                  0.0   \n",
              "1                 0.0                  0.0                  0.0   \n",
              "2                 0.0                  1.0                  0.0   \n",
              "3                 0.0                  0.0                  1.0   \n",
              "4                 0.0                  1.0                  0.0   \n",
              "\n",
              "   Exterior1st_WdShing  \n",
              "0                  0.0  \n",
              "1                  0.0  \n",
              "2                  0.0  \n",
              "3                  0.0  \n",
              "4                  0.0  \n",
              "\n",
              "[5 rows x 38 columns]"
            ],
            "text/html": [
              "\n",
              "  <div id=\"df-b18f156d-20a0-4271-8e34-6f46c31982a2\" class=\"colab-df-container\">\n",
              "    <div>\n",
              "<style scoped>\n",
              "    .dataframe tbody tr th:only-of-type {\n",
              "        vertical-align: middle;\n",
              "    }\n",
              "\n",
              "    .dataframe tbody tr th {\n",
              "        vertical-align: top;\n",
              "    }\n",
              "\n",
              "    .dataframe thead th {\n",
              "        text-align: right;\n",
              "    }\n",
              "</style>\n",
              "<table border=\"1\" class=\"dataframe\">\n",
              "  <thead>\n",
              "    <tr style=\"text-align: right;\">\n",
              "      <th></th>\n",
              "      <th>MSSubClass</th>\n",
              "      <th>LotArea</th>\n",
              "      <th>OverallCond</th>\n",
              "      <th>YearBuilt</th>\n",
              "      <th>YearRemodAdd</th>\n",
              "      <th>BsmtFinSF2</th>\n",
              "      <th>TotalBsmtSF</th>\n",
              "      <th>SalePrice</th>\n",
              "      <th>MSZoning_C (all)</th>\n",
              "      <th>MSZoning_FV</th>\n",
              "      <th>...</th>\n",
              "      <th>Exterior1st_CemntBd</th>\n",
              "      <th>Exterior1st_HdBoard</th>\n",
              "      <th>Exterior1st_ImStucc</th>\n",
              "      <th>Exterior1st_MetalSd</th>\n",
              "      <th>Exterior1st_Plywood</th>\n",
              "      <th>Exterior1st_Stone</th>\n",
              "      <th>Exterior1st_Stucco</th>\n",
              "      <th>Exterior1st_VinylSd</th>\n",
              "      <th>Exterior1st_Wd Sdng</th>\n",
              "      <th>Exterior1st_WdShing</th>\n",
              "    </tr>\n",
              "  </thead>\n",
              "  <tbody>\n",
              "    <tr>\n",
              "      <th>0</th>\n",
              "      <td>60</td>\n",
              "      <td>8450</td>\n",
              "      <td>5</td>\n",
              "      <td>2003</td>\n",
              "      <td>2003</td>\n",
              "      <td>0.0</td>\n",
              "      <td>856.0</td>\n",
              "      <td>208500.0</td>\n",
              "      <td>0.0</td>\n",
              "      <td>0.0</td>\n",
              "      <td>...</td>\n",
              "      <td>0.0</td>\n",
              "      <td>0.0</td>\n",
              "      <td>0.0</td>\n",
              "      <td>0.0</td>\n",
              "      <td>0.0</td>\n",
              "      <td>0.0</td>\n",
              "      <td>0.0</td>\n",
              "      <td>1.0</td>\n",
              "      <td>0.0</td>\n",
              "      <td>0.0</td>\n",
              "    </tr>\n",
              "    <tr>\n",
              "      <th>1</th>\n",
              "      <td>20</td>\n",
              "      <td>9600</td>\n",
              "      <td>8</td>\n",
              "      <td>1976</td>\n",
              "      <td>1976</td>\n",
              "      <td>0.0</td>\n",
              "      <td>1262.0</td>\n",
              "      <td>181500.0</td>\n",
              "      <td>0.0</td>\n",
              "      <td>0.0</td>\n",
              "      <td>...</td>\n",
              "      <td>0.0</td>\n",
              "      <td>0.0</td>\n",
              "      <td>0.0</td>\n",
              "      <td>1.0</td>\n",
              "      <td>0.0</td>\n",
              "      <td>0.0</td>\n",
              "      <td>0.0</td>\n",
              "      <td>0.0</td>\n",
              "      <td>0.0</td>\n",
              "      <td>0.0</td>\n",
              "    </tr>\n",
              "    <tr>\n",
              "      <th>2</th>\n",
              "      <td>60</td>\n",
              "      <td>11250</td>\n",
              "      <td>5</td>\n",
              "      <td>2001</td>\n",
              "      <td>2002</td>\n",
              "      <td>0.0</td>\n",
              "      <td>920.0</td>\n",
              "      <td>223500.0</td>\n",
              "      <td>0.0</td>\n",
              "      <td>0.0</td>\n",
              "      <td>...</td>\n",
              "      <td>0.0</td>\n",
              "      <td>0.0</td>\n",
              "      <td>0.0</td>\n",
              "      <td>0.0</td>\n",
              "      <td>0.0</td>\n",
              "      <td>0.0</td>\n",
              "      <td>0.0</td>\n",
              "      <td>1.0</td>\n",
              "      <td>0.0</td>\n",
              "      <td>0.0</td>\n",
              "    </tr>\n",
              "    <tr>\n",
              "      <th>3</th>\n",
              "      <td>70</td>\n",
              "      <td>9550</td>\n",
              "      <td>5</td>\n",
              "      <td>1915</td>\n",
              "      <td>1970</td>\n",
              "      <td>0.0</td>\n",
              "      <td>756.0</td>\n",
              "      <td>140000.0</td>\n",
              "      <td>0.0</td>\n",
              "      <td>0.0</td>\n",
              "      <td>...</td>\n",
              "      <td>0.0</td>\n",
              "      <td>0.0</td>\n",
              "      <td>0.0</td>\n",
              "      <td>0.0</td>\n",
              "      <td>0.0</td>\n",
              "      <td>0.0</td>\n",
              "      <td>0.0</td>\n",
              "      <td>0.0</td>\n",
              "      <td>1.0</td>\n",
              "      <td>0.0</td>\n",
              "    </tr>\n",
              "    <tr>\n",
              "      <th>4</th>\n",
              "      <td>60</td>\n",
              "      <td>14260</td>\n",
              "      <td>5</td>\n",
              "      <td>2000</td>\n",
              "      <td>2000</td>\n",
              "      <td>0.0</td>\n",
              "      <td>1145.0</td>\n",
              "      <td>250000.0</td>\n",
              "      <td>0.0</td>\n",
              "      <td>0.0</td>\n",
              "      <td>...</td>\n",
              "      <td>0.0</td>\n",
              "      <td>0.0</td>\n",
              "      <td>0.0</td>\n",
              "      <td>0.0</td>\n",
              "      <td>0.0</td>\n",
              "      <td>0.0</td>\n",
              "      <td>0.0</td>\n",
              "      <td>1.0</td>\n",
              "      <td>0.0</td>\n",
              "      <td>0.0</td>\n",
              "    </tr>\n",
              "  </tbody>\n",
              "</table>\n",
              "<p>5 rows × 38 columns</p>\n",
              "</div>\n",
              "    <div class=\"colab-df-buttons\">\n",
              "\n",
              "  <div class=\"colab-df-container\">\n",
              "    <button class=\"colab-df-convert\" onclick=\"convertToInteractive('df-b18f156d-20a0-4271-8e34-6f46c31982a2')\"\n",
              "            title=\"Convert this dataframe to an interactive table.\"\n",
              "            style=\"display:none;\">\n",
              "\n",
              "  <svg xmlns=\"http://www.w3.org/2000/svg\" height=\"24px\" viewBox=\"0 -960 960 960\">\n",
              "    <path d=\"M120-120v-720h720v720H120Zm60-500h600v-160H180v160Zm220 220h160v-160H400v160Zm0 220h160v-160H400v160ZM180-400h160v-160H180v160Zm440 0h160v-160H620v160ZM180-180h160v-160H180v160Zm440 0h160v-160H620v160Z\"/>\n",
              "  </svg>\n",
              "    </button>\n",
              "\n",
              "  <style>\n",
              "    .colab-df-container {\n",
              "      display:flex;\n",
              "      gap: 12px;\n",
              "    }\n",
              "\n",
              "    .colab-df-convert {\n",
              "      background-color: #E8F0FE;\n",
              "      border: none;\n",
              "      border-radius: 50%;\n",
              "      cursor: pointer;\n",
              "      display: none;\n",
              "      fill: #1967D2;\n",
              "      height: 32px;\n",
              "      padding: 0 0 0 0;\n",
              "      width: 32px;\n",
              "    }\n",
              "\n",
              "    .colab-df-convert:hover {\n",
              "      background-color: #E2EBFA;\n",
              "      box-shadow: 0px 1px 2px rgba(60, 64, 67, 0.3), 0px 1px 3px 1px rgba(60, 64, 67, 0.15);\n",
              "      fill: #174EA6;\n",
              "    }\n",
              "\n",
              "    .colab-df-buttons div {\n",
              "      margin-bottom: 4px;\n",
              "    }\n",
              "\n",
              "    [theme=dark] .colab-df-convert {\n",
              "      background-color: #3B4455;\n",
              "      fill: #D2E3FC;\n",
              "    }\n",
              "\n",
              "    [theme=dark] .colab-df-convert:hover {\n",
              "      background-color: #434B5C;\n",
              "      box-shadow: 0px 1px 3px 1px rgba(0, 0, 0, 0.15);\n",
              "      filter: drop-shadow(0px 1px 2px rgba(0, 0, 0, 0.3));\n",
              "      fill: #FFFFFF;\n",
              "    }\n",
              "  </style>\n",
              "\n",
              "    <script>\n",
              "      const buttonEl =\n",
              "        document.querySelector('#df-b18f156d-20a0-4271-8e34-6f46c31982a2 button.colab-df-convert');\n",
              "      buttonEl.style.display =\n",
              "        google.colab.kernel.accessAllowed ? 'block' : 'none';\n",
              "\n",
              "      async function convertToInteractive(key) {\n",
              "        const element = document.querySelector('#df-b18f156d-20a0-4271-8e34-6f46c31982a2');\n",
              "        const dataTable =\n",
              "          await google.colab.kernel.invokeFunction('convertToInteractive',\n",
              "                                                    [key], {});\n",
              "        if (!dataTable) return;\n",
              "\n",
              "        const docLinkHtml = 'Like what you see? Visit the ' +\n",
              "          '<a target=\"_blank\" href=https://colab.research.google.com/notebooks/data_table.ipynb>data table notebook</a>'\n",
              "          + ' to learn more about interactive tables.';\n",
              "        element.innerHTML = '';\n",
              "        dataTable['output_type'] = 'display_data';\n",
              "        await google.colab.output.renderOutput(dataTable, element);\n",
              "        const docLink = document.createElement('div');\n",
              "        docLink.innerHTML = docLinkHtml;\n",
              "        element.appendChild(docLink);\n",
              "      }\n",
              "    </script>\n",
              "  </div>\n",
              "\n",
              "\n",
              "<div id=\"df-dd32d7a6-4099-4166-a557-a14a66aa420f\">\n",
              "  <button class=\"colab-df-quickchart\" onclick=\"quickchart('df-dd32d7a6-4099-4166-a557-a14a66aa420f')\"\n",
              "            title=\"Suggest charts\"\n",
              "            style=\"display:none;\">\n",
              "\n",
              "<svg xmlns=\"http://www.w3.org/2000/svg\" height=\"24px\"viewBox=\"0 0 24 24\"\n",
              "     width=\"24px\">\n",
              "    <g>\n",
              "        <path d=\"M19 3H5c-1.1 0-2 .9-2 2v14c0 1.1.9 2 2 2h14c1.1 0 2-.9 2-2V5c0-1.1-.9-2-2-2zM9 17H7v-7h2v7zm4 0h-2V7h2v10zm4 0h-2v-4h2v4z\"/>\n",
              "    </g>\n",
              "</svg>\n",
              "  </button>\n",
              "\n",
              "<style>\n",
              "  .colab-df-quickchart {\n",
              "      --bg-color: #E8F0FE;\n",
              "      --fill-color: #1967D2;\n",
              "      --hover-bg-color: #E2EBFA;\n",
              "      --hover-fill-color: #174EA6;\n",
              "      --disabled-fill-color: #AAA;\n",
              "      --disabled-bg-color: #DDD;\n",
              "  }\n",
              "\n",
              "  [theme=dark] .colab-df-quickchart {\n",
              "      --bg-color: #3B4455;\n",
              "      --fill-color: #D2E3FC;\n",
              "      --hover-bg-color: #434B5C;\n",
              "      --hover-fill-color: #FFFFFF;\n",
              "      --disabled-bg-color: #3B4455;\n",
              "      --disabled-fill-color: #666;\n",
              "  }\n",
              "\n",
              "  .colab-df-quickchart {\n",
              "    background-color: var(--bg-color);\n",
              "    border: none;\n",
              "    border-radius: 50%;\n",
              "    cursor: pointer;\n",
              "    display: none;\n",
              "    fill: var(--fill-color);\n",
              "    height: 32px;\n",
              "    padding: 0;\n",
              "    width: 32px;\n",
              "  }\n",
              "\n",
              "  .colab-df-quickchart:hover {\n",
              "    background-color: var(--hover-bg-color);\n",
              "    box-shadow: 0 1px 2px rgba(60, 64, 67, 0.3), 0 1px 3px 1px rgba(60, 64, 67, 0.15);\n",
              "    fill: var(--button-hover-fill-color);\n",
              "  }\n",
              "\n",
              "  .colab-df-quickchart-complete:disabled,\n",
              "  .colab-df-quickchart-complete:disabled:hover {\n",
              "    background-color: var(--disabled-bg-color);\n",
              "    fill: var(--disabled-fill-color);\n",
              "    box-shadow: none;\n",
              "  }\n",
              "\n",
              "  .colab-df-spinner {\n",
              "    border: 2px solid var(--fill-color);\n",
              "    border-color: transparent;\n",
              "    border-bottom-color: var(--fill-color);\n",
              "    animation:\n",
              "      spin 1s steps(1) infinite;\n",
              "  }\n",
              "\n",
              "  @keyframes spin {\n",
              "    0% {\n",
              "      border-color: transparent;\n",
              "      border-bottom-color: var(--fill-color);\n",
              "      border-left-color: var(--fill-color);\n",
              "    }\n",
              "    20% {\n",
              "      border-color: transparent;\n",
              "      border-left-color: var(--fill-color);\n",
              "      border-top-color: var(--fill-color);\n",
              "    }\n",
              "    30% {\n",
              "      border-color: transparent;\n",
              "      border-left-color: var(--fill-color);\n",
              "      border-top-color: var(--fill-color);\n",
              "      border-right-color: var(--fill-color);\n",
              "    }\n",
              "    40% {\n",
              "      border-color: transparent;\n",
              "      border-right-color: var(--fill-color);\n",
              "      border-top-color: var(--fill-color);\n",
              "    }\n",
              "    60% {\n",
              "      border-color: transparent;\n",
              "      border-right-color: var(--fill-color);\n",
              "    }\n",
              "    80% {\n",
              "      border-color: transparent;\n",
              "      border-right-color: var(--fill-color);\n",
              "      border-bottom-color: var(--fill-color);\n",
              "    }\n",
              "    90% {\n",
              "      border-color: transparent;\n",
              "      border-bottom-color: var(--fill-color);\n",
              "    }\n",
              "  }\n",
              "</style>\n",
              "\n",
              "  <script>\n",
              "    async function quickchart(key) {\n",
              "      const quickchartButtonEl =\n",
              "        document.querySelector('#' + key + ' button');\n",
              "      quickchartButtonEl.disabled = true;  // To prevent multiple clicks.\n",
              "      quickchartButtonEl.classList.add('colab-df-spinner');\n",
              "      try {\n",
              "        const charts = await google.colab.kernel.invokeFunction(\n",
              "            'suggestCharts', [key], {});\n",
              "      } catch (error) {\n",
              "        console.error('Error during call to suggestCharts:', error);\n",
              "      }\n",
              "      quickchartButtonEl.classList.remove('colab-df-spinner');\n",
              "      quickchartButtonEl.classList.add('colab-df-quickchart-complete');\n",
              "    }\n",
              "    (() => {\n",
              "      let quickchartButtonEl =\n",
              "        document.querySelector('#df-dd32d7a6-4099-4166-a557-a14a66aa420f button');\n",
              "      quickchartButtonEl.style.display =\n",
              "        google.colab.kernel.accessAllowed ? 'block' : 'none';\n",
              "    })();\n",
              "  </script>\n",
              "</div>\n",
              "\n",
              "    </div>\n",
              "  </div>\n"
            ],
            "application/vnd.google.colaboratory.intrinsic+json": {
              "type": "dataframe",
              "variable_name": "df_final"
            }
          },
          "metadata": {},
          "execution_count": 16
        }
      ]
    },
    {
      "cell_type": "markdown",
      "source": [
        "### Scaling"
      ],
      "metadata": {
        "id": "eZDFB6FZv1k-"
      }
    },
    {
      "cell_type": "code",
      "source": [
        "label_max, label_min = df[\"SalePrice\"].max(), df[\"SalePrice\"].min()\n",
        "label_max, label_min"
      ],
      "metadata": {
        "colab": {
          "base_uri": "https://localhost:8080/"
        },
        "id": "bFOLI05z2940",
        "outputId": "5a725fdb-1772-4962-c505-51926d71d4c6"
      },
      "execution_count": null,
      "outputs": [
        {
          "output_type": "execute_result",
          "data": {
            "text/plain": [
              "(755000.0, 34900.0)"
            ]
          },
          "metadata": {},
          "execution_count": 17
        }
      ]
    },
    {
      "cell_type": "code",
      "source": [
        "df_normalized = df_final.apply(lambda x: (x - x.min()) / (x.max() - x.min()))"
      ],
      "metadata": {
        "id": "70VWqfAKv3J-"
      },
      "execution_count": null,
      "outputs": []
    },
    {
      "cell_type": "code",
      "source": [
        "# from sklearn.preprocessing import MinMaxScaler\n",
        "# scaler = MinMaxScaler()\n",
        "# df_normalized = pd.DataFrame(scaler.fit_transform(df), columns=df.columns)"
      ],
      "metadata": {
        "id": "Ve81LFh9wEs0"
      },
      "execution_count": null,
      "outputs": []
    },
    {
      "cell_type": "markdown",
      "source": [
        "# Data splitting"
      ],
      "metadata": {
        "id": "TCfu66R_cyAJ"
      }
    },
    {
      "cell_type": "code",
      "source": [
        "import numpy as np\n",
        "def train_test_split(X, y, test_size=0.2, random_state=None):\n",
        "    if random_state:\n",
        "        np.random.seed(random_state)\n",
        "\n",
        "    # Split the data\n",
        "    split_index = int(len(X) * (1 - test_size))\n",
        "\n",
        "    X_train = X[:split_index]\n",
        "    X_test = X[split_index:]\n",
        "    y_train = y[:split_index]\n",
        "    y_test = y[split_index:]\n",
        "\n",
        "    return X_train, X_test, y_train, y_test"
      ],
      "metadata": {
        "id": "SqKZLT33eAjM"
      },
      "execution_count": null,
      "outputs": []
    },
    {
      "cell_type": "code",
      "source": [
        "df_normalized.columns"
      ],
      "metadata": {
        "colab": {
          "base_uri": "https://localhost:8080/"
        },
        "id": "OF43AvddezUr",
        "outputId": "8213b14a-cb42-4b26-d338-bc201e2b556e"
      },
      "execution_count": null,
      "outputs": [
        {
          "output_type": "execute_result",
          "data": {
            "text/plain": [
              "Index(['MSSubClass', 'LotArea', 'OverallCond', 'YearBuilt', 'YearRemodAdd',\n",
              "       'BsmtFinSF2', 'TotalBsmtSF', 'SalePrice', 'MSZoning_C (all)',\n",
              "       'MSZoning_FV', 'MSZoning_RH', 'MSZoning_RL', 'MSZoning_RM',\n",
              "       'LotConfig_Corner', 'LotConfig_CulDSac', 'LotConfig_FR2',\n",
              "       'LotConfig_FR3', 'LotConfig_Inside', 'BldgType_1Fam', 'BldgType_2fmCon',\n",
              "       'BldgType_Duplex', 'BldgType_Twnhs', 'BldgType_TwnhsE',\n",
              "       'Exterior1st_AsbShng', 'Exterior1st_AsphShn', 'Exterior1st_BrkComm',\n",
              "       'Exterior1st_BrkFace', 'Exterior1st_CBlock', 'Exterior1st_CemntBd',\n",
              "       'Exterior1st_HdBoard', 'Exterior1st_ImStucc', 'Exterior1st_MetalSd',\n",
              "       'Exterior1st_Plywood', 'Exterior1st_Stone', 'Exterior1st_Stucco',\n",
              "       'Exterior1st_VinylSd', 'Exterior1st_Wd Sdng', 'Exterior1st_WdShing'],\n",
              "      dtype='object')"
            ]
          },
          "metadata": {},
          "execution_count": 21
        }
      ]
    },
    {
      "cell_type": "code",
      "source": [
        "df_normalized = df_normalized.sample(frac = 1)\n",
        "X, y = df_normalized[['MSSubClass', 'LotArea', 'OverallCond', 'YearBuilt', 'YearRemodAdd',\n",
        "       'BsmtFinSF2', 'TotalBsmtSF', 'MSZoning_C (all)',\n",
        "       'MSZoning_FV', 'MSZoning_RH', 'MSZoning_RL', 'MSZoning_RM',\n",
        "       'LotConfig_Corner', 'LotConfig_CulDSac', 'LotConfig_FR2',\n",
        "       'LotConfig_FR3', 'LotConfig_Inside', 'BldgType_1Fam', 'BldgType_2fmCon',\n",
        "       'BldgType_Duplex', 'BldgType_Twnhs', 'BldgType_TwnhsE',\n",
        "       'Exterior1st_AsbShng', 'Exterior1st_AsphShn', 'Exterior1st_BrkComm',\n",
        "       'Exterior1st_BrkFace', 'Exterior1st_CBlock', 'Exterior1st_CemntBd',\n",
        "       'Exterior1st_HdBoard', 'Exterior1st_ImStucc', 'Exterior1st_MetalSd',\n",
        "       'Exterior1st_Plywood', 'Exterior1st_Stone', 'Exterior1st_Stucco',\n",
        "       'Exterior1st_VinylSd', 'Exterior1st_Wd Sdng', 'Exterior1st_WdShing']], df_normalized[['SalePrice']]"
      ],
      "metadata": {
        "id": "Wrqjlf9-gJEr"
      },
      "execution_count": null,
      "outputs": []
    },
    {
      "cell_type": "code",
      "source": [
        "X, y"
      ],
      "metadata": {
        "colab": {
          "base_uri": "https://localhost:8080/"
        },
        "collapsed": true,
        "id": "7y3Skg0ZguD4",
        "outputId": "ab42d14d-0d70-4437-8745-037c03d75035"
      },
      "execution_count": null,
      "outputs": [
        {
          "output_type": "execute_result",
          "data": {
            "text/plain": [
              "(      MSSubClass   LotArea  OverallCond  YearBuilt  YearRemodAdd  BsmtFinSF2  \\\n",
              " 2468    0.176471  0.020473        0.250   0.210145      0.000000    0.000000   \n",
              " 1269    0.176471  0.046947        0.500   0.623188      0.133333    0.000000   \n",
              " 2674    0.588235  0.007993        0.500   0.963768      0.933333    0.000000   \n",
              " 1647    0.000000  0.030522        0.500   0.710145      0.333333    0.000000   \n",
              " 530     0.352941  0.041599        0.500   0.840580      0.650000    0.000000   \n",
              " ...          ...       ...          ...        ...           ...         ...   \n",
              " 2710    0.352941  0.060904        0.375   0.739130      0.400000    0.325688   \n",
              " 1127    0.000000  0.062035        0.500   0.956522      0.900000    0.000000   \n",
              " 2519    0.235294  0.051658        0.500   0.913043      0.816667    0.000000   \n",
              " 1505    0.000000  0.042796        0.625   0.688406      0.283333    0.000000   \n",
              " 1603    0.588235  0.011737        0.500   0.956522      0.916667    0.000000   \n",
              " \n",
              "       TotalBsmtSF  MSZoning_C (all)  MSZoning_FV  MSZoning_RH  ...  \\\n",
              " 2468     0.158592               0.0          0.0          0.0  ...   \n",
              " 1269     0.143044               0.0          0.0          0.0  ...   \n",
              " 2674     0.186907               0.0          0.0          0.0  ...   \n",
              " 1647     0.193126               0.0          0.0          0.0  ...   \n",
              " 530      0.239116               0.0          0.0          0.0  ...   \n",
              " ...           ...               ...          ...          ...  ...   \n",
              " 2710     0.286088               0.0          0.0          0.0  ...   \n",
              " 1127     0.250409               0.0          0.0          0.0  ...   \n",
              " 2519     0.139607               0.0          0.0          0.0  ...   \n",
              " 1505     0.299345               0.0          0.0          0.0  ...   \n",
              " 1603     0.260884               0.0          0.0          0.0  ...   \n",
              " \n",
              "       Exterior1st_CemntBd  Exterior1st_HdBoard  Exterior1st_ImStucc  \\\n",
              " 2468                  0.0                  0.0                  0.0   \n",
              " 1269                  0.0                  0.0                  0.0   \n",
              " 2674                  0.0                  0.0                  0.0   \n",
              " 1647                  0.0                  1.0                  0.0   \n",
              " 530                   0.0                  1.0                  0.0   \n",
              " ...                   ...                  ...                  ...   \n",
              " 2710                  0.0                  0.0                  0.0   \n",
              " 1127                  0.0                  0.0                  0.0   \n",
              " 2519                  0.0                  0.0                  0.0   \n",
              " 1505                  0.0                  1.0                  0.0   \n",
              " 1603                  1.0                  0.0                  0.0   \n",
              " \n",
              "       Exterior1st_MetalSd  Exterior1st_Plywood  Exterior1st_Stone  \\\n",
              " 2468                  0.0                  0.0                0.0   \n",
              " 1269                  1.0                  0.0                0.0   \n",
              " 2674                  0.0                  0.0                0.0   \n",
              " 1647                  0.0                  0.0                0.0   \n",
              " 530                   0.0                  0.0                0.0   \n",
              " ...                   ...                  ...                ...   \n",
              " 2710                  0.0                  0.0                0.0   \n",
              " 1127                  0.0                  0.0                0.0   \n",
              " 2519                  0.0                  0.0                0.0   \n",
              " 1505                  0.0                  0.0                0.0   \n",
              " 1603                  0.0                  0.0                0.0   \n",
              " \n",
              "       Exterior1st_Stucco  Exterior1st_VinylSd  Exterior1st_Wd Sdng  \\\n",
              " 2468                 0.0                  0.0                  0.0   \n",
              " 1269                 0.0                  0.0                  0.0   \n",
              " 2674                 0.0                  1.0                  0.0   \n",
              " 1647                 0.0                  0.0                  0.0   \n",
              " 530                  0.0                  0.0                  0.0   \n",
              " ...                  ...                  ...                  ...   \n",
              " 2710                 0.0                  0.0                  0.0   \n",
              " 1127                 0.0                  1.0                  0.0   \n",
              " 2519                 0.0                  1.0                  0.0   \n",
              " 1505                 0.0                  0.0                  0.0   \n",
              " 1603                 0.0                  0.0                  0.0   \n",
              " \n",
              "       Exterior1st_WdShing  \n",
              " 2468                  0.0  \n",
              " 1269                  0.0  \n",
              " 2674                  0.0  \n",
              " 1647                  0.0  \n",
              " 530                   0.0  \n",
              " ...                   ...  \n",
              " 2710                  1.0  \n",
              " 1127                  0.0  \n",
              " 2519                  0.0  \n",
              " 1505                  0.0  \n",
              " 1603                  0.0  \n",
              " \n",
              " [2913 rows x 37 columns],\n",
              "       SalePrice\n",
              " 2468   0.202779\n",
              " 1269   0.151507\n",
              " 2674   0.202779\n",
              " 1647   0.202779\n",
              " 530    0.194556\n",
              " ...         ...\n",
              " 2710   0.202779\n",
              " 1127   0.311207\n",
              " 2519   0.202779\n",
              " 1505   0.202779\n",
              " 1603   0.202779\n",
              " \n",
              " [2913 rows x 1 columns])"
            ]
          },
          "metadata": {},
          "execution_count": 23
        }
      ]
    },
    {
      "cell_type": "code",
      "source": [
        "# X, y = df_final.loc[:, df_final.columns != 'SalePrice'], df_final[['SalePrice']]"
      ],
      "metadata": {
        "id": "wiiNfRQRgR1G"
      },
      "execution_count": null,
      "outputs": []
    },
    {
      "cell_type": "code",
      "source": [
        "X_train, X_test, y_train, y_test = train_test_split(X, y)"
      ],
      "metadata": {
        "id": "gMCC4I4bgjf2"
      },
      "execution_count": null,
      "outputs": []
    },
    {
      "cell_type": "code",
      "source": [
        "X_train.shape, X_test.shape, y_train.shape, y_test.shape"
      ],
      "metadata": {
        "colab": {
          "base_uri": "https://localhost:8080/"
        },
        "id": "o5k0PNG_pMGY",
        "outputId": "df0cd3cb-be60-4c92-8148-ffa013e2dec9"
      },
      "execution_count": null,
      "outputs": [
        {
          "output_type": "execute_result",
          "data": {
            "text/plain": [
              "((2330, 37), (583, 37), (2330, 1), (583, 1))"
            ]
          },
          "metadata": {},
          "execution_count": 26
        }
      ]
    },
    {
      "cell_type": "markdown",
      "source": [
        "# Model Building"
      ],
      "metadata": {
        "id": "egogzbyuca1N"
      }
    },
    {
      "cell_type": "code",
      "source": [
        "def init_params(n_features):\n",
        "    W = np.zeros((n_features, 1))\n",
        "    # W = np.random.randn(n_features, 1) * 0.01\n",
        "    b = 0\n",
        "    return W, b\n",
        "\n",
        "def compute(W, b, X):\n",
        "    return np.dot(X, W)+b\n",
        "\n",
        "def loss(y_true, y_pred):\n",
        "\n",
        "    # return np.mean((y_true - y_pred) ** 3)\n",
        "    # return np.abs(y_true - y_pred)\n",
        "    return np.mean((y_true - y_pred) ** 2)\n",
        "\n",
        "def update_params(W, b, learning_rate, dw, db):\n",
        "    W = W - learning_rate * dw\n",
        "    b = b - learning_rate * db\n",
        "    return W, b\n",
        "\n",
        "def train(X, y, learning_rate, epochs):\n",
        "    W, b = init_params(X.shape[1])\n",
        "    for i in range(epochs):\n",
        "        y_pred = compute(W, b, X)\n",
        "        loss_value = loss(y, y_pred)\n",
        "        val=np.dot(X.T, (y_pred - y))\n",
        "        dw = 2 * (val) / X.shape[0]\n",
        "        db = 2 * np.sum(y_pred - y) / X.shape[0]\n",
        "        #MAE\n",
        "        # dw = np.dot(X.T, np.sign(y_pred - y)) / X.shape[0]\n",
        "        # db = np.mean(np.sign(y_pred - y))/X.shape[0]\n",
        "\n",
        "        W, b = update_params(W, b, learning_rate, dw, db)\n",
        "        if i % 100 == 0:\n",
        "            print(f\"Epoch {i}, Loss: {loss_value}\")\n",
        "    return W, b\n",
        "\n",
        "def predict(X, W, b):\n",
        "    return compute(W, b, X)"
      ],
      "metadata": {
        "id": "AaESDSGxccOn"
      },
      "execution_count": null,
      "outputs": []
    },
    {
      "cell_type": "code",
      "source": [
        "W_, b_ = train(X_train.values, y_train.values, 0.0001, 10000)"
      ],
      "metadata": {
        "colab": {
          "base_uri": "https://localhost:8080/"
        },
        "collapsed": true,
        "id": "_noV0GqEung6",
        "outputId": "101cc185-75f9-472a-e721-75b6228f0a1e"
      },
      "execution_count": null,
      "outputs": [
        {
          "output_type": "stream",
          "name": "stdout",
          "text": [
            "Epoch 0, Loss: 0.013475994850334714\n",
            "Epoch 100, Loss: 0.010112863902498263\n",
            "Epoch 200, Loss: 0.0077710043254110425\n",
            "Epoch 300, Loss: 0.006124139651526763\n",
            "Epoch 400, Loss: 0.004952419738792096\n",
            "Epoch 500, Loss: 0.004107425447527552\n",
            "Epoch 600, Loss: 0.00348871533029027\n",
            "Epoch 700, Loss: 0.0030281034489645126\n",
            "Epoch 800, Loss: 0.0026791161540046697\n",
            "Epoch 900, Loss: 0.002409918587932048\n",
            "Epoch 1000, Loss: 0.00219856615978934\n",
            "Epoch 1100, Loss: 0.0020298142591249884\n",
            "Epoch 1200, Loss: 0.001892972633088114\n",
            "Epoch 1300, Loss: 0.001780460386887536\n",
            "Epoch 1400, Loss: 0.0016868311087060443\n",
            "Epoch 1500, Loss: 0.0016081136627608367\n",
            "Epoch 1600, Loss: 0.0015413651255459615\n",
            "Epoch 1700, Loss: 0.0014843664553348648\n",
            "Epoch 1800, Loss: 0.001435414338462741\n",
            "Epoch 1900, Loss: 0.001393177967440798\n",
            "Epoch 2000, Loss: 0.0013565997664611684\n",
            "Epoch 2100, Loss: 0.0013248259573537863\n",
            "Epoch 2200, Loss: 0.001297157470558068\n",
            "Epoch 2300, Loss: 0.0012730147991938858\n",
            "Epoch 2400, Loss: 0.0012519124707982042\n",
            "Epoch 2500, Loss: 0.0012334402062217607\n",
            "Epoch 2600, Loss: 0.0012172487732475903\n",
            "Epoch 2700, Loss: 0.0012030391742015342\n",
            "Epoch 2800, Loss: 0.0011905542329937924\n",
            "Epoch 2900, Loss: 0.001179571935209004\n",
            "Epoch 3000, Loss: 0.0011699000703183258\n",
            "Epoch 3100, Loss: 0.0011613718581660176\n",
            "Epoch 3200, Loss: 0.0011538423329357215\n",
            "Epoch 3300, Loss: 0.0011471853204830548\n",
            "Epoch 3400, Loss: 0.0011412908884005691\n",
            "Epoch 3500, Loss: 0.0011360631786213778\n",
            "Epoch 3600, Loss: 0.0011314185539164387\n",
            "Epoch 3700, Loss: 0.0011272840050934913\n",
            "Epoch 3800, Loss: 0.0011235957769516957\n",
            "Epoch 3900, Loss: 0.0011202981793648865\n",
            "Epoch 4000, Loss: 0.001117342556127892\n",
            "Epoch 4100, Loss: 0.0011146863889989725\n",
            "Epoch 4200, Loss: 0.001112292518115407\n",
            "Epoch 4300, Loss: 0.0011101284629309617\n",
            "Epoch 4400, Loss: 0.0011081658302209546\n",
            "Epoch 4500, Loss: 0.0011063797976618168\n",
            "Epoch 4600, Loss: 0.001104748663117037\n",
            "Epoch 4700, Loss: 0.0011032534511223272\n",
            "Epoch 4800, Loss: 0.0011018775692126983\n",
            "Epoch 4900, Loss: 0.0011006065077128553\n",
            "Epoch 5000, Loss: 0.0010994275774502873\n",
            "Epoch 5100, Loss: 0.0010983296805711037\n",
            "Epoch 5200, Loss: 0.001097303110260924\n",
            "Epoch 5300, Loss: 0.0010963393757118238\n",
            "Epoch 5400, Loss: 0.0010954310491437887\n",
            "Epoch 5500, Loss: 0.0010945716320954711\n",
            "Epoch 5600, Loss: 0.001093755438552666\n",
            "Epoch 5700, Loss: 0.0010929774927910686\n",
            "Epoch 5800, Loss: 0.0010922334400785187\n",
            "Epoch 5900, Loss: 0.0010915194686163434\n",
            "Epoch 6000, Loss: 0.0010908322413039778\n",
            "Epoch 6100, Loss: 0.001090168836089712\n",
            "Epoch 6200, Loss: 0.0010895266938263691\n",
            "Epoch 6300, Loss: 0.0010889035726870718\n",
            "Epoch 6400, Loss: 0.00108829750831525\n",
            "Epoch 6500, Loss: 0.0010877067789871327\n",
            "Epoch 6600, Loss: 0.0010871298751558573\n",
            "Epoch 6700, Loss: 0.0010865654728257634\n",
            "Epoch 6800, Loss: 0.0010860124102749114\n",
            "Epoch 6900, Loss: 0.0010854696677045073\n",
            "Epoch 7000, Loss: 0.001084936349446968\n",
            "Epoch 7100, Loss: 0.0010844116684107412\n",
            "Epoch 7200, Loss: 0.0010838949324804728\n",
            "Epoch 7300, Loss: 0.001083385532626564\n",
            "Epoch 7400, Loss: 0.0010828829325090917\n",
            "Epoch 7500, Loss: 0.0010823866593881464\n",
            "Epoch 7600, Loss: 0.001081896296176271\n",
            "Epoch 7700, Loss: 0.001081411474489376\n",
            "Epoch 7800, Loss: 0.0010809318685705742\n",
            "Epoch 7900, Loss: 0.001080457189977157\n",
            "Epoch 8000, Loss: 0.001079987182934783\n",
            "Epoch 8100, Loss: 0.001079521620274965\n",
            "Epoch 8200, Loss: 0.0010790602998825545\n",
            "Epoch 8300, Loss: 0.0010786030415890929\n",
            "Epoch 8400, Loss: 0.001078149684455985\n",
            "Epoch 8500, Loss: 0.0010777000843985223\n",
            "Epoch 8600, Loss: 0.001077254112107883\n",
            "Epoch 8700, Loss: 0.0010768116512336967\n",
            "Epoch 8800, Loss: 0.0010763725967944066\n",
            "Epoch 8900, Loss: 0.0010759368537868273\n",
            "Epoch 9000, Loss: 0.0010755043359698515\n",
            "Epoch 9100, Loss: 0.0010750749648004532\n",
            "Epoch 9200, Loss: 0.0010746486685028333\n",
            "Epoch 9300, Loss: 0.0010742253812540017\n",
            "Epoch 9400, Loss: 0.0010738050424711667\n",
            "Epoch 9500, Loss: 0.0010733875961881495\n",
            "Epoch 9600, Loss: 0.0010729729905096495\n",
            "Epoch 9700, Loss: 0.0010725611771335807\n",
            "Epoch 9800, Loss: 0.0010721521109329397\n",
            "Epoch 9900, Loss: 0.0010717457495897328\n"
          ]
        }
      ]
    },
    {
      "cell_type": "code",
      "source": [
        "vals = predict(X_test.values, W_, b_)"
      ],
      "metadata": {
        "id": "13I1Nl0ousyP"
      },
      "execution_count": null,
      "outputs": []
    },
    {
      "cell_type": "code",
      "source": [
        "reg_vals = vals * (label_max - label_min) + label_min\n",
        "y_reg_test = y_test * (label_max - label_min) + label_min\n",
        "\n",
        "loss_value = loss(y_reg_test.values, reg_vals)/len(reg_vals)\n",
        "loss_value"
      ],
      "metadata": {
        "colab": {
          "base_uri": "https://localhost:8080/"
        },
        "id": "-5KLnykg2N4u",
        "outputId": "4c128c3b-1115-411f-db09-230cfc6344cd"
      },
      "execution_count": null,
      "outputs": [
        {
          "output_type": "execute_result",
          "data": {
            "text/plain": [
              "615394293499.5585"
            ]
          },
          "metadata": {},
          "execution_count": 30
        }
      ]
    },
    {
      "cell_type": "markdown",
      "source": [
        "### The above number makes no sense. But the below one does. Why?\n",
        "What is the practical meaning of loss?"
      ],
      "metadata": {
        "id": "K2UP9ZdZ5jDQ"
      }
    },
    {
      "cell_type": "code",
      "source": [
        "difference = np.sum(abs(y_reg_test.values - reg_vals))/len(reg_vals)\n",
        "difference"
      ],
      "metadata": {
        "colab": {
          "base_uri": "https://localhost:8080/"
        },
        "id": "MDOOkrmZ2OWx",
        "outputId": "4c9d775f-f526-4711-f850-8c3fbe78dd72"
      },
      "execution_count": null,
      "outputs": [
        {
          "output_type": "execute_result",
          "data": {
            "text/plain": [
              "32554.313600997815"
            ]
          },
          "metadata": {},
          "execution_count": 31
        }
      ]
    },
    {
      "cell_type": "code",
      "source": [],
      "metadata": {
        "id": "2BIaJ4oN2Q78"
      },
      "execution_count": null,
      "outputs": []
    }
  ]
}
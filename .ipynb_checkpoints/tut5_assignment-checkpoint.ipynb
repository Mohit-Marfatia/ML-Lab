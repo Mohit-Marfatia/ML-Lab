{
  "nbformat": 4,
  "nbformat_minor": 0,
  "metadata": {
    "colab": {
      "provenance": []
    },
    "kernelspec": {
      "name": "python3",
      "display_name": "Python 3"
    },
    "language_info": {
      "name": "python"
    }
  },
  "cells": [
    {
      "cell_type": "code",
      "source": [
        "!wget -O dataset1.csv https://docs.google.com/spreadsheets/d/1xr7kMY4AJhau6sedvV2X9fbwM4ckWrv-Izoe9LDJxUc/export?format=csv&gid=1812782799"
      ],
      "metadata": {
        "colab": {
          "base_uri": "https://localhost:8080/"
        },
        "id": "OzUh4wyJpsjj",
        "outputId": "b07dad6d-17c3-4f2e-d952-415bcd4b942a"
      },
      "execution_count": null,
      "outputs": [
        {
          "output_type": "stream",
          "name": "stdout",
          "text": [
            "--2024-09-06 09:26:40--  https://docs.google.com/spreadsheets/d/1xr7kMY4AJhau6sedvV2X9fbwM4ckWrv-Izoe9LDJxUc/export?format=csv\n",
            "Resolving docs.google.com (docs.google.com)... 142.251.107.139, 142.251.107.113, 142.251.107.101, ...\n",
            "Connecting to docs.google.com (docs.google.com)|142.251.107.139|:443... connected.\n",
            "HTTP request sent, awaiting response... 307 Temporary Redirect\n",
            "Location: https://doc-0g-c8-sheets.googleusercontent.com/export/54bogvaave6cua4cdnls17ksc4/mlo0fabnas0m02kp5hj9f53k3g/1725614800000/112261653790527273724/*/1xr7kMY4AJhau6sedvV2X9fbwM4ckWrv-Izoe9LDJxUc?format=csv [following]\n",
            "Warning: wildcards not supported in HTTP.\n",
            "--2024-09-06 09:26:40--  https://doc-0g-c8-sheets.googleusercontent.com/export/54bogvaave6cua4cdnls17ksc4/mlo0fabnas0m02kp5hj9f53k3g/1725614800000/112261653790527273724/*/1xr7kMY4AJhau6sedvV2X9fbwM4ckWrv-Izoe9LDJxUc?format=csv\n",
            "Resolving doc-0g-c8-sheets.googleusercontent.com (doc-0g-c8-sheets.googleusercontent.com)... 173.194.215.132, 2607:f8b0:400c:c0c::84\n",
            "Connecting to doc-0g-c8-sheets.googleusercontent.com (doc-0g-c8-sheets.googleusercontent.com)|173.194.215.132|:443... connected.\n",
            "HTTP request sent, awaiting response... 200 OK\n",
            "Length: unspecified [text/csv]\n",
            "Saving to: ‘dataset1.csv’\n",
            "\n",
            "dataset1.csv            [ <=>                ] 140.34K  --.-KB/s    in 0.01s   \n",
            "\n",
            "2024-09-06 09:26:40 (9.64 MB/s) - ‘dataset1.csv’ saved [143710]\n",
            "\n"
          ]
        }
      ]
    },
    {
      "cell_type": "code",
      "source": [
        "!wget -O dataset2.csv https://docs.google.com/spreadsheets/d/1jXOPv57M_rwr8dgXyd-EZE78-V_MSTXce-J0tSZ9nT4/export?format=csv&gid=28140221"
      ],
      "metadata": {
        "colab": {
          "base_uri": "https://localhost:8080/"
        },
        "id": "sa4mTqHUp0cu",
        "outputId": "08960138-d80a-41f0-b3d1-9603d1e221d8"
      },
      "execution_count": null,
      "outputs": [
        {
          "output_type": "stream",
          "name": "stdout",
          "text": [
            "--2024-09-06 09:26:42--  https://docs.google.com/spreadsheets/d/1jXOPv57M_rwr8dgXyd-EZE78-V_MSTXce-J0tSZ9nT4/export?format=csv\n",
            "Resolving docs.google.com (docs.google.com)... 142.251.107.139, 142.251.107.113, 142.251.107.101, ...\n",
            "Connecting to docs.google.com (docs.google.com)|142.251.107.139|:443... connected.\n",
            "HTTP request sent, awaiting response... 307 Temporary Redirect\n",
            "Location: https://doc-0o-c8-sheets.googleusercontent.com/export/54bogvaave6cua4cdnls17ksc4/qvup5pud5hlaf0pf348beqq128/1725614800000/112261653790527273724/*/1jXOPv57M_rwr8dgXyd-EZE78-V_MSTXce-J0tSZ9nT4?format=csv [following]\n",
            "Warning: wildcards not supported in HTTP.\n",
            "--2024-09-06 09:26:42--  https://doc-0o-c8-sheets.googleusercontent.com/export/54bogvaave6cua4cdnls17ksc4/qvup5pud5hlaf0pf348beqq128/1725614800000/112261653790527273724/*/1jXOPv57M_rwr8dgXyd-EZE78-V_MSTXce-J0tSZ9nT4?format=csv\n",
            "Resolving doc-0o-c8-sheets.googleusercontent.com (doc-0o-c8-sheets.googleusercontent.com)... 173.194.215.132, 2607:f8b0:400c:c0c::84\n",
            "Connecting to doc-0o-c8-sheets.googleusercontent.com (doc-0o-c8-sheets.googleusercontent.com)|173.194.215.132|:443... connected.\n",
            "HTTP request sent, awaiting response... 200 OK\n",
            "Length: unspecified [text/csv]\n",
            "Saving to: ‘dataset2.csv’\n",
            "\n",
            "dataset2.csv            [ <=>                ] 141.54K  --.-KB/s    in 0.01s   \n",
            "\n",
            "2024-09-06 09:26:43 (9.76 MB/s) - ‘dataset2.csv’ saved [144941]\n",
            "\n"
          ]
        }
      ]
    },
    {
      "cell_type": "code",
      "source": [
        "import pandas as pd\n",
        "\n",
        "file_path = 'dataset1.csv'\n",
        "dataset1 = pd.read_csv(file_path)\n",
        "\n",
        "file_path2 = 'dataset2.csv'\n",
        "dataset2 = pd.read_csv(file_path2)"
      ],
      "metadata": {
        "id": "rjrvO7aSc5FV"
      },
      "execution_count": null,
      "outputs": []
    },
    {
      "cell_type": "code",
      "source": [
        "#Perform basic EDA"
      ],
      "metadata": {
        "id": "1-Wp9cdUpqg4"
      },
      "execution_count": null,
      "outputs": []
    },
    {
      "cell_type": "code",
      "source": [
        "#Implement Logistic Regression on dataset1 and compute its accuracy"
      ],
      "metadata": {
        "id": "R1nfR1-ke8r_"
      },
      "execution_count": null,
      "outputs": []
    },
    {
      "cell_type": "code",
      "source": [
        "#Implement Naive Bayes on dataset1 and compute its accuracy"
      ],
      "metadata": {
        "id": "wbMkw8QQfOU5"
      },
      "execution_count": null,
      "outputs": []
    },
    {
      "cell_type": "code",
      "source": [
        "#Implement Logistic Regression on dataset2 and compute its accuracy"
      ],
      "metadata": {
        "id": "yZIdsaT3fSSw"
      },
      "execution_count": null,
      "outputs": []
    },
    {
      "cell_type": "code",
      "source": [
        "#Implement Naive Bayes on dataset2 and compute its accuracy"
      ],
      "metadata": {
        "id": "hc4Wd-QVfT6T"
      },
      "execution_count": null,
      "outputs": []
    },
    {
      "cell_type": "markdown",
      "source": [
        "#Based on the results, explain which model works better on each dataset and why."
      ],
      "metadata": {
        "id": "hyqB40-cj9vk"
      }
    },
    {
      "cell_type": "code",
      "source": [],
      "metadata": {
        "id": "w-sykMQmoiNx"
      },
      "execution_count": null,
      "outputs": []
    }
  ]
}